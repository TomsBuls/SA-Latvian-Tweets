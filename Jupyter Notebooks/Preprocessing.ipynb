{
 "cells": [
  {
   "cell_type": "code",
   "execution_count": 303,
   "id": "99dc559a",
   "metadata": {},
   "outputs": [],
   "source": [
    "import pandas as pd\n",
    "import numpy as np"
   ]
  },
  {
   "cell_type": "code",
   "execution_count": 304,
   "id": "c091e159",
   "metadata": {
    "scrolled": true
   },
   "outputs": [],
   "source": [
    "df = pd.read_csv(\"36K.csv\")"
   ]
  },
  {
   "cell_type": "markdown",
   "id": "c61528f3",
   "metadata": {},
   "source": [
    "# Remove duplicates"
   ]
  },
  {
   "cell_type": "code",
   "execution_count": 261,
   "id": "1428e2cb",
   "metadata": {},
   "outputs": [],
   "source": [
    "# Remove duplicates from the 'text' column and keep the first occurrence\n",
    "df = df.drop_duplicates(subset=['text'])"
   ]
  },
  {
   "cell_type": "code",
   "execution_count": 262,
   "id": "3554c5f6",
   "metadata": {},
   "outputs": [
    {
     "data": {
      "text/plain": [
       "Index(['id', 'images/0', 'images/1', 'images/2', 'images/3', 'images/4',\n",
       "       'images/5', 'images/6', 'text', 'likes', 'replies', 'retweets',\n",
       "       'quotes', 'timestamp', 'url'],\n",
       "      dtype='object')"
      ]
     },
     "execution_count": 262,
     "metadata": {},
     "output_type": "execute_result"
    }
   ],
   "source": [
    "df.columns"
   ]
  },
  {
   "cell_type": "markdown",
   "id": "4839f888-607f-4e4c-a465-9027a8448dca",
   "metadata": {},
   "source": [
    "# Drop unnecessary columns"
   ]
  },
  {
   "cell_type": "code",
   "execution_count": 267,
   "id": "e2436258",
   "metadata": {},
   "outputs": [],
   "source": [
    "# Remove columns 'images' and 'id'\n",
    "df.drop(columns=['images/0', 'images/1', 'images/2', 'images/3', 'images/4', 'images/5', 'images/6', 'id'], inplace=True)"
   ]
  },
  {
   "cell_type": "code",
   "execution_count": 268,
   "id": "0ea3b915-833f-4258-9811-7081d411a9d1",
   "metadata": {},
   "outputs": [
    {
     "name": "stdout",
     "output_type": "stream",
     "text": [
      "<class 'pandas.core.frame.DataFrame'>\n",
      "Index: 34159 entries, 0 to 36997\n",
      "Data columns (total 7 columns):\n",
      " #   Column     Non-Null Count  Dtype \n",
      "---  ------     --------------  ----- \n",
      " 0   text       34159 non-null  object\n",
      " 1   likes      34159 non-null  int64 \n",
      " 2   replies    34159 non-null  int64 \n",
      " 3   retweets   34159 non-null  int64 \n",
      " 4   quotes     34159 non-null  int64 \n",
      " 5   timestamp  34159 non-null  object\n",
      " 6   url        34159 non-null  object\n",
      "dtypes: int64(4), object(3)\n",
      "memory usage: 2.1+ MB\n",
      "None\n"
     ]
    }
   ],
   "source": [
    "# Convert the \"text\" column to strings\n",
    "df['text'] = df['text'].astype(str)\n",
    "\n",
    "# Print information about the DataFrame after the operation\n",
    "print(df.info())"
   ]
  },
  {
   "cell_type": "markdown",
   "id": "185e2835-668a-4e25-ab6a-6c18119f0d56",
   "metadata": {},
   "source": [
    "# Exploratory analysis of tweets"
   ]
  },
  {
   "cell_type": "code",
   "execution_count": 269,
   "id": "b1e660f6",
   "metadata": {},
   "outputs": [],
   "source": [
    "df['timestamp'] = pd.to_datetime(df['timestamp'])"
   ]
  },
  {
   "cell_type": "code",
   "execution_count": 270,
   "id": "ee59b38d",
   "metadata": {},
   "outputs": [
    {
     "name": "stderr",
     "output_type": "stream",
     "text": [
      "C:\\Users\\tomsb\\AppData\\Local\\Temp\\ipykernel_18692\\1284148770.py:1: UserWarning: Converting to PeriodArray/Index representation will drop timezone information.\n",
      "  df['week'] = df['timestamp'].dt.to_period('W')\n"
     ]
    }
   ],
   "source": [
    "df['week'] = df['timestamp'].dt.to_period('W')"
   ]
  },
  {
   "cell_type": "code",
   "execution_count": 271,
   "id": "a9f910f3",
   "metadata": {},
   "outputs": [
    {
     "name": "stderr",
     "output_type": "stream",
     "text": [
      "C:\\Users\\tomsb\\AppData\\Local\\Temp\\ipykernel_18692\\3808018711.py:11: UserWarning: Converting to PeriodArray/Index representation will drop timezone information.\n",
      "  df['week'] = df['timestamp'].dt.to_period('W')\n",
      "C:\\Users\\tomsb\\anaconda3\\Lib\\site-packages\\seaborn\\_oldcore.py:1498: FutureWarning: is_categorical_dtype is deprecated and will be removed in a future version. Use isinstance(dtype, CategoricalDtype) instead\n",
      "  if pd.api.types.is_categorical_dtype(vector):\n",
      "C:\\Users\\tomsb\\anaconda3\\Lib\\site-packages\\seaborn\\_oldcore.py:1498: FutureWarning: is_categorical_dtype is deprecated and will be removed in a future version. Use isinstance(dtype, CategoricalDtype) instead\n",
      "  if pd.api.types.is_categorical_dtype(vector):\n",
      "C:\\Users\\tomsb\\anaconda3\\Lib\\site-packages\\seaborn\\_oldcore.py:1498: FutureWarning: is_categorical_dtype is deprecated and will be removed in a future version. Use isinstance(dtype, CategoricalDtype) instead\n",
      "  if pd.api.types.is_categorical_dtype(vector):\n"
     ]
    },
    {
     "data": {
      "image/png": "[encoded data removed]",
      "text/plain": [
       "<Figure size 1200x600 with 1 Axes>"
      ]
     },
     "metadata": {},
     "output_type": "display_data"
    }
   ],
   "source": [
    "import pandas as pd\n",
    "import seaborn as sns\n",
    "import matplotlib.pyplot as plt\n",
    "\n",
    "# Assuming you have a DataFrame df with 'timestamp' and 'week' columns\n",
    "\n",
    "# Convert timestamp to datetime\n",
    "df['timestamp'] = pd.to_datetime(df['timestamp'])\n",
    "\n",
    "# Round timestamps to the nearest week\n",
    "df['week'] = df['timestamp'].dt.to_period('W')\n",
    "\n",
    "# Filter the DataFrame to include data from September 2022 to September 2023\n",
    "df = df[(df['timestamp'] >= '2022-09-01') & (df['timestamp'] < '2023-09-01')]\n",
    "\n",
    "# Sort the DataFrame by the 'week' column\n",
    "df = df.sort_values(by='week')\n",
    "\n",
    "# Create a custom transformation function for week labels\n",
    "def transform_week(week):\n",
    "    if week.week == 1:\n",
    "        return week.start_time.strftime('%B %Y')\n",
    "    elif week.week % 4 == 1:\n",
    "        return week.start_time.strftime('%B %Y')\n",
    "    else:\n",
    "        return '.'\n",
    "\n",
    "# Apply the transformation to the 'week' column to create custom labels\n",
    "df['custom_week'] = df['week'].apply(transform_week)\n",
    "\n",
    "# Create the countplot with bars for each week\n",
    "plt.figure(figsize=(12, 6))\n",
    "ax = sns.countplot(data=df, x='week', palette='viridis')\n",
    "\n",
    "# Remove x-tick labels\n",
    "ax.set_xticklabels([])\n",
    "\n",
    "plt.xlabel('Week')\n",
    "plt.ylabel('Count')\n",
    "plt.title('Count of Tweets Over Weeks (Sep 2022 - Aug 2023)')\n",
    "plt.show()\n"
   ]
  },
  {
   "cell_type": "code",
   "execution_count": 272,
   "id": "00d201d2",
   "metadata": {
    "scrolled": true
   },
   "outputs": [
    {
     "name": "stdout",
     "output_type": "stream",
     "text": [
      "      month  tweet_count\n",
      "0   2022-09         2482\n",
      "1   2022-10         4092\n",
      "2   2022-11         1872\n",
      "3   2022-12         1584\n",
      "4   2023-01         1142\n",
      "5   2023-02         1192\n",
      "6   2023-03         1975\n",
      "7   2023-04         2482\n",
      "8   2023-05         3299\n",
      "9   2023-06         2762\n",
      "10  2023-07         1549\n",
      "11  2023-08         3722\n"
     ]
    },
    {
     "name": "stderr",
     "output_type": "stream",
     "text": [
      "C:\\Users\\tomsb\\AppData\\Local\\Temp\\ipykernel_18692\\2526133580.py:6: UserWarning: Converting to PeriodArray/Index representation will drop timezone information.\n",
      "  df['month'] = df['timestamp'].dt.to_period('M')\n"
     ]
    }
   ],
   "source": [
    "import pandas as pd\n",
    "\n",
    "# Assuming you have a DataFrame named 'data' with a 'timestamp' column in datetime format\n",
    "\n",
    "# Round timestamps to the nearest month\n",
    "df['month'] = df['timestamp'].dt.to_period('M')\n",
    "\n",
    "# Group the data by month and count the number of tweets in each month\n",
    "monthly_tweet_counts = df.groupby('month').size().reset_index(name='tweet_count')\n",
    "\n",
    "# Display the resulting table\n",
    "print(monthly_tweet_counts)"
   ]
  },
  {
   "cell_type": "code",
   "execution_count": 273,
   "id": "3e6a69c4",
   "metadata": {},
   "outputs": [
    {
     "data": {
      "text/plain": [
       "28153"
      ]
     },
     "execution_count": 273,
     "metadata": {},
     "output_type": "execute_result"
    }
   ],
   "source": [
    "len(df)"
   ]
  },
  {
   "cell_type": "code",
   "execution_count": 274,
   "id": "ffb04ebc",
   "metadata": {},
   "outputs": [
    {
     "name": "stdout",
     "output_type": "stream",
     "text": [
      "              likes      replies      retweets        quotes\n",
      "count  28153.000000  28153.00000  28153.000000  28153.000000\n",
      "mean       9.373530      1.12123      1.490214      0.180656\n",
      "std       74.818517      6.92064     11.274680      3.045602\n",
      "min        0.000000      0.00000      0.000000      0.000000\n",
      "25%        0.000000      0.00000      0.000000      0.000000\n",
      "50%        1.000000      0.00000      0.000000      0.000000\n",
      "75%        4.000000      1.00000      1.000000      0.000000\n",
      "max    10480.000000    800.00000   1601.000000    477.000000\n"
     ]
    }
   ],
   "source": [
    "# Calculate descriptive statistics for the specified columns\n",
    "statistics = df[['likes', 'replies', 'retweets', 'quotes']].describe()\n",
    "\n",
    "# Display the descriptive statistics\n",
    "print(statistics)"
   ]
  },
  {
   "cell_type": "code",
   "execution_count": 275,
   "id": "9c499036",
   "metadata": {},
   "outputs": [
    {
     "name": "stderr",
     "output_type": "stream",
     "text": [
      "C:\\Users\\tomsb\\anaconda3\\Lib\\site-packages\\seaborn\\_oldcore.py:1498: FutureWarning: is_categorical_dtype is deprecated and will be removed in a future version. Use isinstance(dtype, CategoricalDtype) instead\n",
      "  if pd.api.types.is_categorical_dtype(vector):\n",
      "C:\\Users\\tomsb\\anaconda3\\Lib\\site-packages\\seaborn\\_oldcore.py:1119: FutureWarning: use_inf_as_na option is deprecated and will be removed in a future version. Convert inf values to NaN before operating instead.\n",
      "  with pd.option_context('mode.use_inf_as_na', True):\n",
      "C:\\Users\\tomsb\\anaconda3\\Lib\\site-packages\\seaborn\\_oldcore.py:1498: FutureWarning: is_categorical_dtype is deprecated and will be removed in a future version. Use isinstance(dtype, CategoricalDtype) instead\n",
      "  if pd.api.types.is_categorical_dtype(vector):\n",
      "C:\\Users\\tomsb\\anaconda3\\Lib\\site-packages\\seaborn\\_oldcore.py:1119: FutureWarning: use_inf_as_na option is deprecated and will be removed in a future version. Convert inf values to NaN before operating instead.\n",
      "  with pd.option_context('mode.use_inf_as_na', True):\n",
      "C:\\Users\\tomsb\\anaconda3\\Lib\\site-packages\\seaborn\\_oldcore.py:1498: FutureWarning: is_categorical_dtype is deprecated and will be removed in a future version. Use isinstance(dtype, CategoricalDtype) instead\n",
      "  if pd.api.types.is_categorical_dtype(vector):\n",
      "C:\\Users\\tomsb\\anaconda3\\Lib\\site-packages\\seaborn\\_oldcore.py:1119: FutureWarning: use_inf_as_na option is deprecated and will be removed in a future version. Convert inf values to NaN before operating instead.\n",
      "  with pd.option_context('mode.use_inf_as_na', True):\n",
      "C:\\Users\\tomsb\\anaconda3\\Lib\\site-packages\\seaborn\\_oldcore.py:1498: FutureWarning: is_categorical_dtype is deprecated and will be removed in a future version. Use isinstance(dtype, CategoricalDtype) instead\n",
      "  if pd.api.types.is_categorical_dtype(vector):\n",
      "C:\\Users\\tomsb\\anaconda3\\Lib\\site-packages\\seaborn\\_oldcore.py:1119: FutureWarning: use_inf_as_na option is deprecated and will be removed in a future version. Convert inf values to NaN before operating instead.\n",
      "  with pd.option_context('mode.use_inf_as_na', True):\n"
     ]
    },
    {
     "data": {
      "image/png": "[encoded data removed]",
      "text/plain": [
       "<Figure size 1200x800 with 4 Axes>"
      ]
     },
     "metadata": {},
     "output_type": "display_data"
    }
   ],
   "source": [
    "import matplotlib.pyplot as plt\n",
    "import seaborn as sns\n",
    "\n",
    "# Define quartile values (25th and 75th percentiles) for each column\n",
    "likes_25th = df['likes'].quantile(0.25)\n",
    "likes_75th = df['likes'].quantile(0.75)\n",
    "replies_25th = df['replies'].quantile(0.25)\n",
    "replies_75th = df['replies'].quantile(0.75)\n",
    "retweets_25th = df['retweets'].quantile(0.25)\n",
    "retweets_75th = df['retweets'].quantile(0.75)\n",
    "quotes_25th = df['quotes'].quantile(0.25)\n",
    "quotes_75th = df['quotes'].quantile(0.75)\n",
    "\n",
    "# Calculate the IQR for each column\n",
    "likes_iqr = likes_75th - likes_25th\n",
    "replies_iqr = replies_75th - replies_25th\n",
    "retweets_iqr = retweets_75th - retweets_25th\n",
    "quotes_iqr = quotes_75th - quotes_25th\n",
    "\n",
    "# Define the upper and lower bounds to identify outliers\n",
    "likes_upper_bound = likes_75th + 1.5 * likes_iqr\n",
    "likes_lower_bound = likes_25th - 1.5 * likes_iqr\n",
    "replies_upper_bound = replies_75th + 1.5 * replies_iqr\n",
    "replies_lower_bound = replies_25th - 1.5 * replies_iqr\n",
    "retweets_upper_bound = retweets_75th + 1.5 * retweets_iqr\n",
    "retweets_lower_bound = retweets_25th - 1.5 * retweets_iqr\n",
    "quotes_upper_bound = quotes_75th + 1.5 * quotes_iqr\n",
    "quotes_lower_bound = quotes_25th - 1.5 * quotes_iqr\n",
    "\n",
    "# Create a 2x2 grid of subplots\n",
    "fig, axes = plt.subplots(nrows=2, ncols=2, figsize=(12, 8))\n",
    "\n",
    "# Customize the appearance of the histograms with outliers removed\n",
    "sns.histplot(df[(df['likes'] >= likes_lower_bound) & (df['likes'] <= likes_upper_bound)]['likes'], ax=axes[0, 0], bins=20)\n",
    "axes[0, 0].set_title('Distribution of Likes (Outliers Removed)')\n",
    "axes[0, 0].set_xlabel('Likes')\n",
    "axes[0, 0].set_ylabel('Count')\n",
    "\n",
    "sns.histplot(df[(df['replies'] >= replies_lower_bound) & (df['replies'] <= replies_upper_bound)]['replies'], ax=axes[0, 1], bins=20)\n",
    "axes[0, 1].set_title('Distribution of Replies (Outliers Removed)')\n",
    "axes[0, 1].set_xlabel('Replies')\n",
    "axes[0, 1].set_ylabel('Count')\n",
    "\n",
    "sns.histplot(df[(df['retweets'] >= retweets_lower_bound) & (df['retweets'] <= retweets_upper_bound)]['retweets'], ax=axes[1, 0], bins=20)\n",
    "axes[1, 0].set_title('Distribution of Retweets (Outliers Removed)')\n",
    "axes[1, 0].set_xlabel('Retweets')\n",
    "axes[1, 0].set_ylabel('Count')\n",
    "\n",
    "sns.histplot(df[(df['quotes'] >= quotes_lower_bound) & (df['quotes'] <= quotes_upper_bound)]['quotes'], ax=axes[1, 1], bins=20)\n",
    "axes[1, 1].set_title('Distribution of Quotes (Outliers Removed)')\n",
    "axes[1, 1].set_xlabel('Quotes')\n",
    "axes[1, 1].set_ylabel('Count')\n",
    "\n",
    "# Add labels and adjust layout\n",
    "plt.tight_layout()\n",
    "plt.show()"
   ]
  },
  {
   "cell_type": "code",
   "execution_count": 276,
   "id": "61621fcb",
   "metadata": {},
   "outputs": [
    {
     "name": "stdout",
     "output_type": "stream",
     "text": [
      "    Like Threshold  Cumulative Count\n",
      "0                0             28153\n",
      "1                1             17097\n",
      "2                2             12026\n",
      "3                3              9411\n",
      "4                4              7833\n",
      "5                5              6745\n",
      "6                6              5944\n",
      "7                7              5351\n",
      "8                8              4827\n",
      "9                9              4416\n",
      "10              10              4070\n",
      "11              15              2950\n",
      "12              20              2338\n",
      "13              30              1672\n",
      "14              50              1062\n",
      "15             100               496\n",
      "16            1000                10\n"
     ]
    }
   ],
   "source": [
    "import pandas as pd\n",
    "\n",
    "# Assuming you have a DataFrame named 'data' with a 'likes' column\n",
    "\n",
    "# Sort the data by the 'likes' column\n",
    "data_sorted = df.sort_values(by='likes')\n",
    "\n",
    "# Create a list of like thresholds including 0, 1, 2, 3, ..., 1000\n",
    "like_thresholds = [0, 1, 2, 3, 4, 5, 6, 7, 8, 9, 10, 15, 20, 30, 50, 100, 1000]\n",
    "\n",
    "# Calculate the cumulative count of tweets for each like threshold\n",
    "cumulative_counts = []\n",
    "for threshold in like_thresholds:\n",
    "    cumulative_count = (data_sorted['likes'] >= threshold).sum()\n",
    "    cumulative_counts.append(cumulative_count)\n",
    "\n",
    "# Create a DataFrame to display the results\n",
    "result_df = pd.DataFrame({\n",
    "    'Like Threshold': like_thresholds,\n",
    "    'Cumulative Count': cumulative_counts\n",
    "})\n",
    "\n",
    "# Display the cumulative counts table\n",
    "print(result_df)\n"
   ]
  },
  {
   "cell_type": "code",
   "execution_count": 277,
   "id": "c2c008cb",
   "metadata": {},
   "outputs": [
    {
     "data": {
      "image/png": "[encoded data removed]",
      "text/plain": [
       "<Figure size 1200x600 with 1 Axes>"
      ]
     },
     "metadata": {},
     "output_type": "display_data"
    }
   ],
   "source": [
    "# import pandas as pd\n",
    "import matplotlib.pyplot as plt\n",
    "\n",
    "# Assuming you have a DataFrame named 'data' with a 'likes' column\n",
    "\n",
    "# Sort the data by the 'likes' column\n",
    "data_sorted = df.sort_values(by='likes')\n",
    "\n",
    "# Create a list of like thresholds including 0, 1, 2, 3, ..., 1000\n",
    "like_thresholds = [0, 1, 2, 3, 4, 5, 6, 7, 8, 9, 10, 15, 20, 30, 50, 100, 1000]\n",
    "\n",
    "# Calculate the cumulative count of tweets for each like threshold\n",
    "cumulative_counts = []\n",
    "for threshold in like_thresholds:\n",
    "    cumulative_count = (data_sorted['likes'] >= threshold).sum()\n",
    "    cumulative_counts.append(cumulative_count)\n",
    "\n",
    "# Create a DataFrame to display the results\n",
    "result_df = pd.DataFrame({\n",
    "    'Like Threshold': like_thresholds,\n",
    "    'Cumulative Count': cumulative_counts\n",
    "})\n",
    "\n",
    "# Create a line plot without vertical grid lines\n",
    "plt.figure(figsize=(12, 6))\n",
    "plt.plot(result_df['Like Threshold'], result_df['Cumulative Count'], marker='o', linestyle='-')\n",
    "plt.title('Cumulative Count of Tweets by Like Threshold')\n",
    "plt.xlabel('Like Threshold')\n",
    "plt.ylabel('Cumulative Count')\n",
    "plt.grid(axis='y')  # Remove vertical grid lines, keep horizontal grid lines\n",
    "plt.xticks(rotation=45)  # Rotate x-labels by 45 degrees to avoid overlap\n",
    "plt.show()\n"
   ]
  },
  {
   "cell_type": "markdown",
   "id": "69ccc230",
   "metadata": {},
   "source": [
    "# PREPROCESSING"
   ]
  },
  {
   "cell_type": "code",
   "execution_count": 278,
   "id": "3669796b",
   "metadata": {},
   "outputs": [],
   "source": [
    "# Text Cleaning:\n",
    "\n",
    "# Removing HTML tags (if applicable).\n",
    "# Handling special characters, symbols, and emoji.\n",
    "# Converting text to lowercase.\n",
    "# Tokenization:\n",
    "\n",
    "# Splitting text into individual words or tokens.\n",
    "# Stopword Removal:\n",
    "\n",
    "# Removing common words (stopwords) like \"the,\" \"and,\" \"in,\" which may not carry significant meaning for certain NLP tasks.\n",
    "# Punctuation Removal:\n",
    "\n",
    "# Removing punctuation marks like periods, commas, and exclamation points.\n",
    "# Lemmatization or Stemming:\n",
    "\n",
    "# Reducing words to their base or root form. Lemmatization usually produces valid words, while stemming may result in non-words.\n",
    "# Removing Numbers:\n",
    "\n",
    "# Eliminating numeric values or digits from the text.\n",
    "# Handling Contractions:\n",
    "\n",
    "# Expanding contractions like \"don't\" to \"do not.\"\n",
    "# Handling Special Cases:\n",
    "\n",
    "# Addressing domain-specific text transformations or normalizations, if needed.\n",
    "# Spell Checking and Correction (optional):\n",
    "\n",
    "# Identifying and correcting spelling errors.\n",
    "# Removing or Replacing URLs and User Mentions:\n",
    "\n",
    "# Replacing URLs and user mentions (e.g., \"@username\") with placeholders or removing them.\n",
    "# Removing Short Words:\n",
    "\n",
    "# Eliminating very short words or tokens that may not carry significant meaning.\n",
    "# Removing Rare Words (optional):\n",
    "\n",
    "# Removing words that appear infrequently in the dataset to reduce noise."
   ]
  },
  {
   "cell_type": "markdown",
   "id": "44db8d82-dda2-443a-85ef-d6a770ca210d",
   "metadata": {},
   "source": [
    "# Define a list of latvian stopwords and emoticons"
   ]
  },
  {
   "cell_type": "code",
   "execution_count": 279,
   "id": "59eb0d96",
   "metadata": {},
   "outputs": [],
   "source": [
    "import pandas as pd\n",
    "import string\n",
    "import re\n",
    "import time\n",
    "\n",
    "# Define your own list of Latvian stopwords\n",
    "latvian_stopwords = [\n",
    "    \"aiz\", \"ap\", \"apakš\", \"apakšpus\", \"ar\", \"arī\", \"augšpus\", \"bet\", \"bez\", \"bija\", \"biji\", \"biju\", \"bijām\",\n",
    "    \"bijāt\", \"būs\", \"būsi\", \"būsiet\", \"būsim\", \"būt\", \"būšu\", \"caur\", \"diezin\", \"droši\", \"dēļ\",\n",
    "    \"esam\", \"esat\", \"esi\", \"esmu\", \"gan\", \"gar\", \"iekam\", \"iekams\", \"iekām\", \"iekāms\", \"iekš\", \"iekšpus\",\n",
    "    \"ik\", \"ir\", \"it\", \"itin\", \"iz\", \"ja\", \"jau\", \"jeb\", \"jebšu\", \"jel\", \"jo\", \"jā\", \"ka\", \"kamēr\", \"kaut\",\n",
    "    \"kolīdz\", \"kopš\", \"kā\", \"kļuva\", \"kļuvi\", \"kļuvu\", \"kļuvām\", \"kļuvāt\", \"kļūs\", \"kļūsi\", \"kļūsiet\", \"kļūsim\",\n",
    "    \"kļūst\", \"kļūstam\", \"kļūstat\", \"kļūsti\", \"kļūstu\", \"kļūt\", \"kļūšu\", \"labad\", \"lai\", \"lejpus\", \"līdz\", \"līdzko\",\n",
    "    \"ne\", \"nebūt\", \"nedz\", \"nekā\", \"nevis\", \"nezin\", \"no\", \"nu\", \"nē\", \"otrpus\", \"pa\", \"par\", \"pat\", \"pie\", \"pirms\",\n",
    "    \"pret\", \"priekš\", \"pār\", \"pēc\", \"starp\", \"tad\", \"tak\", \"tapi\", \"taps\", \"tapsi\", \"tapsiet\", \"tapsim\", \"tapt\", \"tapāt\",\n",
    "    \"tapšu\", \"taču\", \"te\", \"tiec\", \"tiek\", \"tiekam\", \"tiekat\", \"tieku\", \"tik\", \"tika\", \"tikai\", \"tiki\", \"tikko\", \"tiklab\",\n",
    "    \"tiklīdz\", \"tiks\", \"tiksiet\", \"tiksim\", \"tikt\", \"tiku\", \"tikvien\", \"tikām\", \"tikāt\", \"tikšu\", \"tomēr\", \"topat\",\n",
    "    \"turpretim\", \"turpretī\", \"tā\", \"tādēļ\", \"tālab\", \"tāpēc\", \"un\", \"uz\", \"vai\", \"var\", \"varat\", \"varēja\", \"varēji\",\n",
    "    \"varēju\", \"varējām\", \"varējāt\", \"varēs\", \"varēsi\", \"varēsiet\", \"varēsim\", \"varēt\", \"varēšu\", \"vien\", \"virs\", \"virspus\",\n",
    "    \"vis\", \"viņpus\", \"zem\", \"ārpus\", \"šaipus\"\n",
    "]\n",
    "\n",
    "# Define a list of known emoticons\n",
    "known_emoticons = [\n",
    "    '🙂', '😀', '😃', '😄', '😁', '😆', '😅', '😂', '🤣', '😊', '😇', '😍', '🥰', '😘', '😗', '😙', '😚', '😋', '😛', '😜',\n",
    "    '😝', '🤑', '🤗', '🤓', '😎', '🤩', '🥳', '😏', '😒', '😞', '😔', '😟', '😕', '🙁', '☹️', '😣', '😖', '😫', '😩', '🥺',\n",
    "    '😢', '😭', '😤', '😠', '😡', '🤬', '🤯', '😳', '🥴', '😵', '😲', '🤪', '😤', '😆', '😷', '🤒', '🤕', '🤢', '🤮', '🥵',\n",
    "    '🥶', '😴', '💤', '😪', '👿', '💩', '👻', '💀', '☠️', '👽', '👾', '🤖', '🎃', '😺', '😸', '😹', '😻', '😼', '🙀',\n",
    "    '😿', '😾', '🤝', '🙌', '👏', '🙏', '🤲', '✍️', '👋', '🤚', '🖐️', '✋', '🖖', '👌', '🤞', '🤟', '🤘', '🤙', '👈',\n",
    "    '👉', '👆', '🖕', '👇', '☝️', '👍', '👎', '✊', '👊', '🤛', '🤜', '👏', '🙏', '🤝', '💪', '🦵', '🦶', '🖤', '🤍', '🤎'\n",
    "]\n",
    "\n",
    "# Define the alphabet characters to use for encoding (English alphabet)\n",
    "alphabet = 'abcdefghijklmnopqrstuvwxyz'"
   ]
  },
  {
   "cell_type": "markdown",
   "id": "b58c50b6-e7ef-43ac-85c4-ceec57ad6c25",
   "metadata": {},
   "source": [
    "# Encode emoticons to preserve them"
   ]
  },
  {
   "cell_type": "code",
   "execution_count": 280,
   "id": "6edeed1d-926f-4318-b29c-1cb7202948a3",
   "metadata": {},
   "outputs": [],
   "source": [
    "# Generate unique codes for each emoticon using English alphabet letters\n",
    "emoticon_mapping = {emoticon: f'emoticon{alphabet[i // 26]}{alphabet[i % 26]}' for i, emoticon in enumerate(known_emoticons)}\n",
    "\n",
    "# Reverse mapping to convert encoded emoticons back to the original\n",
    "reverse_emoticon_mapping = {v: k for k, v in emoticon_mapping.items()}"
   ]
  },
  {
   "cell_type": "code",
   "execution_count": 281,
   "id": "ad757643-0da0-46cc-b07a-7c00a487c6db",
   "metadata": {},
   "outputs": [],
   "source": [
    "# Prior preprocessing, convert tweets to a list (will be passed as a list to the function to iterate over)\n",
    "tweets = df['text'].tolist()  # Convert all tweets to a list"
   ]
  },
  {
   "cell_type": "code",
   "execution_count": 282,
   "id": "da7fb773-7a7f-4426-91ab-65af46fbd46d",
   "metadata": {},
   "outputs": [
    {
     "name": "stdout",
     "output_type": "stream",
     "text": [
      "Requirement already satisfied: langdetect in c:\\users\\tomsb\\anaconda3\\lib\\site-packages (1.0.9)Note: you may need to restart the kernel to use updated packages.\n",
      "\n",
      "Requirement already satisfied: six in c:\\users\\tomsb\\anaconda3\\lib\\site-packages (from langdetect) (1.16.0)\n"
     ]
    }
   ],
   "source": [
    "pip install langdetect"
   ]
  },
  {
   "cell_type": "markdown",
   "id": "da0762cd-d8f8-466d-9145-260211e6b9b1",
   "metadata": {},
   "source": [
    "# Define the preprocessing function"
   ]
  },
  {
   "cell_type": "code",
   "execution_count": 283,
   "id": "9d7349da",
   "metadata": {},
   "outputs": [],
   "source": [
    "import re\n",
    "import pandas as pd\n",
    "import time\n",
    "from langdetect import detect, DetectorFactory\n",
    "\n",
    "# Define the function to encode emoticons, preprocess, and filter tweets\n",
    "def preprocess_and_filter_tweets(tweet_list, original_index):\n",
    "    # Set a seed for reproducibility in langdetect\n",
    "    DetectorFactory.seed = 42  # You can use any integer as the seed\n",
    "    cleaned_tweets = pd.Series(index=original_index)\n",
    "\n",
    "    for idx, tweet in zip(original_index, tweet_list):\n",
    "        if pd.isna(tweet):\n",
    "            cleaned_tweets[idx] = \"\"  # Append an empty string for missing values\n",
    "        else:\n",
    "            # Detect the primary language of the tweet\n",
    "            try:\n",
    "                tweet_lang = detect(tweet)\n",
    "            except:\n",
    "                tweet_lang = \"unknown\"\n",
    "\n",
    "            # Check if the detected language is Latvian (you can adjust the threshold)\n",
    "            if tweet_lang == \"lv\" or tweet_lang == \"unknown\":\n",
    "                # Encode emoticons\n",
    "                for emoticon, encoded_form in emoticon_mapping.items():\n",
    "                    tweet = tweet.replace(emoticon, encoded_form)\n",
    "\n",
    "                # Define regular expression pattern to match URLs with specific domain extensions\n",
    "                url_pattern = r'\\bhttps?://\\S+\\b|\\bwww\\.\\S+\\b|\\S+\\.(lv|com|net|nra|uz|it|org|eu|ly|bit|ow|video|de|me|ee|news)\\S*'\n",
    "\n",
    "                # Find and replace matched URLs with an empty string\n",
    "                tweet = re.sub(url_pattern, '', tweet)\n",
    "\n",
    "                # Remove Twitter handles (tags)\n",
    "                tweet = re.sub(r'@[A-Za-z0-9]+', '', tweet)\n",
    "\n",
    "                # Remove hashtags\n",
    "                tweet = re.sub(r'#\\w+', '', tweet)\n",
    "\n",
    "                # Remove single slashes between words\n",
    "                tweet = re.sub(r'(?<=[^\\s])/(?=[^\\s])', ' ', tweet)\n",
    "\n",
    "                # Remove all numbers\n",
    "                tweet = re.sub(r'\\d+', '', tweet)\n",
    "\n",
    "                # Tokenize the tweet into words\n",
    "                words = tweet.split()\n",
    "\n",
    "                # We need this step to ensure that missing spaces after punctuation don't result in merged words\n",
    "                # Define variables to keep track of merged words and punctuation\n",
    "                merged_words = []\n",
    "                current_word = \"\"\n",
    "\n",
    "                for char in tweet:\n",
    "                    if not char.isalnum():  # Check if the character is not alphanumeric\n",
    "                        # If it's not alphanumeric, append the current word (if not empty) and reset it\n",
    "                        if current_word:\n",
    "                            merged_words.append(current_word)\n",
    "                            current_word = \"\"\n",
    "                    else:\n",
    "                        # If it's alphanumeric, add it to the current word\n",
    "                        current_word += char\n",
    "\n",
    "                # Append the last word if not empty\n",
    "                if current_word:\n",
    "                    merged_words.append(current_word)\n",
    "\n",
    "                # Join the merged words into a single string\n",
    "                cleaned_tweet = ' '.join(merged_words)\n",
    "\n",
    "                # Convert text to lowercase\n",
    "                cleaned_tweet = cleaned_tweet.lower()\n",
    "\n",
    "                # Define a set of Latvian punctuation characters to remove\n",
    "                latvian_punctuation = set(\"!,.?;:—()[]{}\\\"'„“”\")\n",
    "\n",
    "                # Use a regular expression to replace multiple spaces with a single space\n",
    "                cleaned_tweet = re.sub(r'\\s+', ' ', cleaned_tweet)\n",
    "\n",
    "                # Use a list comprehension to keep hyphens between words\n",
    "                cleaned_tweet = ''.join(\n",
    "                    char if (char != '-' or (i > 0 and i < len(cleaned_tweet) - 1 and cleaned_tweet[i - 1].isalpha() and cleaned_tweet[i + 1].isalpha()))\n",
    "                    else ' '\n",
    "                    for i, char in enumerate(cleaned_tweet)\n",
    "                )\n",
    "\n",
    "                # Use a list comprehension to keep only characters that are not in the set\n",
    "                cleaned_tweet = ''.join(char for char in cleaned_tweet if char not in latvian_punctuation)\n",
    "\n",
    "                # Tokenize the tweet into words\n",
    "                words = cleaned_tweet.split()\n",
    "\n",
    "                # Remove stopwords\n",
    "                cleaned_words = [\n",
    "                    word\n",
    "                    for word in words\n",
    "                    if word.lower() not in latvian_stopwords\n",
    "                ]\n",
    "\n",
    "                # Join the cleaned words back into a single string\n",
    "                cleaned_tweet = ' '.join(cleaned_words)\n",
    "\n",
    "                # Convert encoded emoticons back to the original\n",
    "                for encoded_form, emoticon in reverse_emoticon_mapping.items():\n",
    "                    cleaned_tweet = cleaned_tweet.replace(encoded_form, emoticon)\n",
    "\n",
    "                cleaned_tweets[idx] = cleaned_tweet\n",
    "\n",
    "    return cleaned_tweets"
   ]
  },
  {
   "cell_type": "markdown",
   "id": "66a90b27-881d-4d67-b4ce-566bb6bd009c",
   "metadata": {},
   "source": [
    "# Apply the preprocessing function"
   ]
  },
  {
   "cell_type": "code",
   "execution_count": 284,
   "id": "094addfd-7aa8-4d27-a590-7d2673a61477",
   "metadata": {},
   "outputs": [
    {
     "name": "stderr",
     "output_type": "stream",
     "text": [
      "C:\\Users\\tomsb\\AppData\\Local\\Temp\\ipykernel_18692\\269620423.py:107: FutureWarning: Setting an item of incompatible dtype is deprecated and will raise in a future error of pandas. Value 'manuprāt diezgan vienkārši īsi konkrēti pasaka visu tām deputātu izglītībām ko daļai negribas neko dzirdēt deputāts nevar sēdēt klasēm saeimā pilnīgs murgs tie cilvēki kuri nosaka mēs dzīvojam dzīvosim' has dtype incompatible with float64, please explicitly cast to a compatible dtype first.\n",
      "  cleaned_tweets[idx] = cleaned_tweet\n"
     ]
    },
    {
     "name": "stdout",
     "output_type": "stream",
     "text": [
      "Finished in 102.9 seconds\n",
      "Tweets left after language detection: 26765\n"
     ]
    }
   ],
   "source": [
    "# Start the timer\n",
    "start_time = time.time()\n",
    "\n",
    "# Create a copy of the original DataFrame to preserve it\n",
    "cleaned_df = df.copy()\n",
    "\n",
    "# Get the original index of the DataFrame\n",
    "original_index = cleaned_df.index\n",
    "\n",
    "# Apply the language detection and preprocessing function to each row in the DataFrame\n",
    "cleaned_tweets = preprocess_and_filter_tweets(cleaned_df['text'], original_index)\n",
    "\n",
    "# Create a new DataFrame by combining the original DataFrame and cleaned tweets\n",
    "cleaned_df['cleaned_text'] = cleaned_tweets\n",
    "\n",
    "# Remove rows with NaN values in the 'cleaned_text' column\n",
    "cleaned_df.dropna(subset=['cleaned_text'], inplace=True)\n",
    "\n",
    "# End the timer\n",
    "end_time = time.time()\n",
    "\n",
    "# Calculate and print the execution time\n",
    "execution = round(end_time - start_time, 1)\n",
    "print(f'Finished in {execution} seconds')\n",
    "\n",
    "# Print the results\n",
    "print(f'Tweets left after language detection: {len(cleaned_df)}')\n",
    "\n",
    "# Now, 'cleaned_df' contains only the rows with tweets primarily in Latvian, and you've preserved all the original index and columns from the 'df' DataFrame."
   ]
  },
  {
   "cell_type": "code",
   "execution_count": 285,
   "id": "74721e3c-f9ae-4a86-a139-d8bbda420032",
   "metadata": {},
   "outputs": [
    {
     "data": {
      "text/plain": [
       "26765"
      ]
     },
     "execution_count": 285,
     "metadata": {},
     "output_type": "execute_result"
    }
   ],
   "source": [
    "len(cleaned_df)"
   ]
  },
  {
   "cell_type": "markdown",
   "id": "487277cc",
   "metadata": {},
   "source": [
    "# Removing rare words"
   ]
  },
  {
   "cell_type": "code",
   "execution_count": 150,
   "id": "83954859",
   "metadata": {},
   "outputs": [
    {
     "data": {
      "text/html": [
       "<div>\n",
       "<style scoped>\n",
       "    .dataframe tbody tr th:only-of-type {\n",
       "        vertical-align: middle;\n",
       "    }\n",
       "\n",
       "    .dataframe tbody tr th {\n",
       "        vertical-align: top;\n",
       "    }\n",
       "\n",
       "    .dataframe thead th {\n",
       "        text-align: right;\n",
       "    }\n",
       "</style>\n",
       "<table border=\"1\" class=\"dataframe\">\n",
       "  <thead>\n",
       "    <tr style=\"text-align: right;\">\n",
       "      <th></th>\n",
       "      <th>Threshold</th>\n",
       "      <th>Total Words Before</th>\n",
       "      <th>Total Words Removed</th>\n",
       "      <th>Total Words After</th>\n",
       "      <th>Unique Words Before</th>\n",
       "      <th>Unique Words Removed</th>\n",
       "      <th>Unique Words Left</th>\n",
       "    </tr>\n",
       "  </thead>\n",
       "  <tbody>\n",
       "    <tr>\n",
       "      <th>0</th>\n",
       "      <td>1.00%</td>\n",
       "      <td>492146</td>\n",
       "      <td>4921</td>\n",
       "      <td>487225</td>\n",
       "      <td>66125</td>\n",
       "      <td>4921</td>\n",
       "      <td>61204</td>\n",
       "    </tr>\n",
       "    <tr>\n",
       "      <th>1</th>\n",
       "      <td>2.00%</td>\n",
       "      <td>492146</td>\n",
       "      <td>9842</td>\n",
       "      <td>482304</td>\n",
       "      <td>66125</td>\n",
       "      <td>9842</td>\n",
       "      <td>56283</td>\n",
       "    </tr>\n",
       "    <tr>\n",
       "      <th>2</th>\n",
       "      <td>3.00%</td>\n",
       "      <td>492146</td>\n",
       "      <td>14764</td>\n",
       "      <td>477382</td>\n",
       "      <td>66125</td>\n",
       "      <td>14764</td>\n",
       "      <td>51361</td>\n",
       "    </tr>\n",
       "    <tr>\n",
       "      <th>3</th>\n",
       "      <td>4.00%</td>\n",
       "      <td>492146</td>\n",
       "      <td>19685</td>\n",
       "      <td>472461</td>\n",
       "      <td>66125</td>\n",
       "      <td>19685</td>\n",
       "      <td>46440</td>\n",
       "    </tr>\n",
       "    <tr>\n",
       "      <th>4</th>\n",
       "      <td>5.00%</td>\n",
       "      <td>492146</td>\n",
       "      <td>24607</td>\n",
       "      <td>467539</td>\n",
       "      <td>66125</td>\n",
       "      <td>24607</td>\n",
       "      <td>41518</td>\n",
       "    </tr>\n",
       "    <tr>\n",
       "      <th>5</th>\n",
       "      <td>10.00%</td>\n",
       "      <td>492146</td>\n",
       "      <td>49214</td>\n",
       "      <td>442932</td>\n",
       "      <td>66125</td>\n",
       "      <td>43102</td>\n",
       "      <td>23023</td>\n",
       "    </tr>\n",
       "    <tr>\n",
       "      <th>6</th>\n",
       "      <td>15.00%</td>\n",
       "      <td>492146</td>\n",
       "      <td>73822</td>\n",
       "      <td>418324</td>\n",
       "      <td>66125</td>\n",
       "      <td>52100</td>\n",
       "      <td>14025</td>\n",
       "    </tr>\n",
       "    <tr>\n",
       "      <th>7</th>\n",
       "      <td>20.00%</td>\n",
       "      <td>492146</td>\n",
       "      <td>98431</td>\n",
       "      <td>393715</td>\n",
       "      <td>66125</td>\n",
       "      <td>57107</td>\n",
       "      <td>9018</td>\n",
       "    </tr>\n",
       "    <tr>\n",
       "      <th>8</th>\n",
       "      <td>25.00%</td>\n",
       "      <td>492146</td>\n",
       "      <td>123041</td>\n",
       "      <td>369105</td>\n",
       "      <td>66125</td>\n",
       "      <td>60096</td>\n",
       "      <td>6029</td>\n",
       "    </tr>\n",
       "    <tr>\n",
       "      <th>9</th>\n",
       "      <td>30.00%</td>\n",
       "      <td>492146</td>\n",
       "      <td>147656</td>\n",
       "      <td>344490</td>\n",
       "      <td>66125</td>\n",
       "      <td>62012</td>\n",
       "      <td>4113</td>\n",
       "    </tr>\n",
       "    <tr>\n",
       "      <th>10</th>\n",
       "      <td>50.00%</td>\n",
       "      <td>492146</td>\n",
       "      <td>246130</td>\n",
       "      <td>246016</td>\n",
       "      <td>66125</td>\n",
       "      <td>65175</td>\n",
       "      <td>950</td>\n",
       "    </tr>\n",
       "  </tbody>\n",
       "</table>\n",
       "</div>"
      ],
      "text/plain": [
       "   Threshold  Total Words Before  Total Words Removed  Total Words After  \\\n",
       "0      1.00%              492146                 4921             487225   \n",
       "1      2.00%              492146                 9842             482304   \n",
       "2      3.00%              492146                14764             477382   \n",
       "3      4.00%              492146                19685             472461   \n",
       "4      5.00%              492146                24607             467539   \n",
       "5     10.00%              492146                49214             442932   \n",
       "6     15.00%              492146                73822             418324   \n",
       "7     20.00%              492146                98431             393715   \n",
       "8     25.00%              492146               123041             369105   \n",
       "9     30.00%              492146               147656             344490   \n",
       "10    50.00%              492146               246130             246016   \n",
       "\n",
       "    Unique Words Before  Unique Words Removed  Unique Words Left  \n",
       "0                 66125                  4921              61204  \n",
       "1                 66125                  9842              56283  \n",
       "2                 66125                 14764              51361  \n",
       "3                 66125                 19685              46440  \n",
       "4                 66125                 24607              41518  \n",
       "5                 66125                 43102              23023  \n",
       "6                 66125                 52100              14025  \n",
       "7                 66125                 57107               9018  \n",
       "8                 66125                 60096               6029  \n",
       "9                 66125                 62012               4113  \n",
       "10                66125                 65175                950  "
      ]
     },
     "execution_count": 150,
     "metadata": {},
     "output_type": "execute_result"
    }
   ],
   "source": [
    "from collections import Counter\n",
    "\n",
    "# Define the column containing the cleaned text\n",
    "column_name = 'cleaned_text'\n",
    "\n",
    "# Convert non-string values (e.g., float) to empty strings\n",
    "cleaned_df[column_name] = cleaned_df[column_name].apply(lambda x: x if isinstance(x, str) else \"\")\n",
    "\n",
    "# Calculate the total word count in the 'cleaned_text' column across all rows (tweets)\n",
    "total_words_before = sum(len(text.split()) for text in cleaned_df[column_name])\n",
    "\n",
    "# Define a list of threshold percentages\n",
    "threshold_percentages = [0.01, 0.02, 0.03, 0.04, 0.05, 0.1, 0.15, 0.20, 0.25, 0.30, 0.50]\n",
    "\n",
    "# Initialize an empty list to store the results\n",
    "results = []\n",
    "\n",
    "# Iterate over each threshold percentage\n",
    "for threshold_percentage in threshold_percentages:\n",
    "    # Calculate the threshold word count (percentage of total words)\n",
    "    threshold_word_count = int(total_words_before * threshold_percentage)\n",
    "\n",
    "    # Calculate the frequency of each unique word\n",
    "    word_counts = Counter(word for text in cleaned_df[column_name] for word in text.split())\n",
    "\n",
    "    # Sort the unique words by their frequency in ascending order\n",
    "    sorted_words = sorted(word_counts.items(), key=lambda x: x[1])\n",
    "\n",
    "    # Initialize variables for each threshold\n",
    "    total_removed_words = 0\n",
    "    infrequent_words = set()\n",
    "    cumulative_word_count = 0\n",
    "\n",
    "    # Find infrequent words and calculate cumulative word count\n",
    "    for word, count in sorted_words:\n",
    "        if cumulative_word_count >= threshold_word_count:\n",
    "            break\n",
    "        infrequent_words.add(word)\n",
    "        cumulative_word_count += count\n",
    "        total_removed_words += count\n",
    "\n",
    "    # Create a copy of the DataFrame\n",
    "    df_copy = cleaned_df.copy()\n",
    "\n",
    "    # Remove infrequent words everywhere in the copied DataFrame\n",
    "    for index, row in df_copy.iterrows():\n",
    "        text = row[column_name]\n",
    "        words_in_text = text.split()\n",
    "        cleaned_words = [word for word in words_in_text if word not in infrequent_words]\n",
    "        df_copy.at[index, column_name] = ' '.join(cleaned_words)\n",
    "\n",
    "    # Calculate the total count of words after removal\n",
    "    total_words_after = sum(len(text.split()) for text in df_copy[column_name])\n",
    "\n",
    "    # Calculate the statistics\n",
    "    unique_words_before = len(sorted_words)\n",
    "    unique_words_removed = len(infrequent_words)\n",
    "    unique_words_left = unique_words_before - unique_words_removed\n",
    "\n",
    "    # Append the results to the list\n",
    "    results.append({'Threshold': f\"{threshold_percentage * 100:.2f}%\",\n",
    "                    'Total Words Before': total_words_before,\n",
    "                    'Total Words Removed': total_removed_words,\n",
    "                    'Total Words After': total_words_after,\n",
    "                    'Unique Words Before': unique_words_before,\n",
    "                    'Unique Words Removed': unique_words_removed,\n",
    "                    'Unique Words Left': unique_words_left})\n",
    "\n",
    "\n",
    "# Create a DataFrame from the list of results\n",
    "results_df = pd.DataFrame(results)\n",
    "\n",
    "# Print the results DataFrame\n",
    "results_df"
   ]
  },
  {
   "cell_type": "markdown",
   "id": "ac749d18-26d9-4063-a11e-413094e81ea7",
   "metadata": {},
   "source": [
    "# Define the function for removing infrequent words"
   ]
  },
  {
   "cell_type": "code",
   "execution_count": 151,
   "id": "3c95bad5",
   "metadata": {},
   "outputs": [],
   "source": [
    "import pandas as pd\n",
    "from collections import Counter\n",
    "\n",
    "def remove_infrequent_words(df, column_name, threshold_percentage):\n",
    "    # Convert non-string values (e.g., float) to empty strings\n",
    "    df[column_name] = df[column_name].apply(lambda x: x if isinstance(x, str) else \"\")\n",
    "\n",
    "    # Calculate the total word count in the 'cleaned_text' column across all rows (tweets)\n",
    "    total_words_before = sum(len(text.split()) for text in df[column_name])\n",
    "\n",
    "    # Calculate the threshold word count (percentage of total words)\n",
    "    threshold_word_count = int(total_words_before * threshold_percentage)\n",
    "\n",
    "    # Calculate the frequency of each unique word\n",
    "    word_counts = Counter(word for text in df[column_name] for word in text.split())\n",
    "\n",
    "    # Sort the unique words by their frequency in ascending order\n",
    "    sorted_words = sorted(word_counts.items(), key=lambda x: x[1])\n",
    "\n",
    "    # Initialize variables for the threshold\n",
    "    total_removed_words = 0\n",
    "    infrequent_words = set()\n",
    "    cumulative_word_count = 0\n",
    "\n",
    "    # Find infrequent words and calculate cumulative word count\n",
    "    for word, count in sorted_words:\n",
    "        if cumulative_word_count >= threshold_word_count:\n",
    "            break\n",
    "        infrequent_words.add(word)\n",
    "        cumulative_word_count += count\n",
    "        total_removed_words += count\n",
    "\n",
    "    # Create a copy of the DataFrame\n",
    "    df_copy = df.copy()\n",
    "\n",
    "    # Remove infrequent words everywhere in the copied DataFrame\n",
    "    for index, row in df_copy.iterrows():\n",
    "        text = row[column_name]\n",
    "        words_in_text = text.split()\n",
    "        cleaned_words = [word for word in words_in_text if word not in infrequent_words]\n",
    "        df_copy.at[index, column_name] = ' '.join(cleaned_words)\n",
    "\n",
    "    # Calculate the total count of words after removal for each row\n",
    "    df_copy['Total Words After'] = df_copy[column_name].apply(lambda text: len(text.split()))\n",
    "\n",
    "    # Rename the DataFrame to the original name ('df')\n",
    "    df_copy = df_copy.rename(columns={column_name: 'cleaned_text'})\n",
    "\n",
    "    # Return the DataFrame with infrequent words removed, including the total word count for each row\n",
    "    return df_copy\n",
    "\n",
    "# Define the threshold percentage you want to use\n",
    "threshold_percentage = 0.01  # For example, to remove infrequent words below 10%\n",
    "\n",
    "# Call the function to get the DataFrame with infrequent words removed\n",
    "cleaned_df = remove_infrequent_words(cleaned_df, 'cleaned_text', threshold_percentage)"
   ]
  },
  {
   "cell_type": "code",
   "execution_count": null,
   "id": "859f372a-88ff-4914-a39a-38fbd90f4476",
   "metadata": {},
   "outputs": [],
   "source": [
    "cleaned_df.drop(columns=['Total Words After'], inplace=True)"
   ]
  },
  {
   "cell_type": "code",
   "execution_count": 154,
   "id": "e2b0c100",
   "metadata": {},
   "outputs": [
    {
     "data": {
      "text/plain": [
       "487225"
      ]
     },
     "execution_count": 154,
     "metadata": {},
     "output_type": "execute_result"
    }
   ],
   "source": [
    "total_words_in_cleaned_text = cleaned_df['cleaned_text'].apply(lambda text: len(text.split())).sum()\n",
    "total_words_in_cleaned_text"
   ]
  },
  {
   "cell_type": "code",
   "execution_count": 155,
   "id": "b20e5de2-e5aa-464f-a4af-1e25e92c6e77",
   "metadata": {},
   "outputs": [
    {
     "data": {
      "text/plain": [
       "26765"
      ]
     },
     "execution_count": 155,
     "metadata": {},
     "output_type": "execute_result"
    }
   ],
   "source": [
    "len(cleaned_df)"
   ]
  },
  {
   "cell_type": "code",
   "execution_count": 156,
   "id": "dc246e0b-8b00-43f4-a28c-b6f3802ff489",
   "metadata": {
    "scrolled": true
   },
   "outputs": [
    {
     "data": {
      "text/html": [
       "<div>\n",
       "<style scoped>\n",
       "    .dataframe tbody tr th:only-of-type {\n",
       "        vertical-align: middle;\n",
       "    }\n",
       "\n",
       "    .dataframe tbody tr th {\n",
       "        vertical-align: top;\n",
       "    }\n",
       "\n",
       "    .dataframe thead th {\n",
       "        text-align: right;\n",
       "    }\n",
       "</style>\n",
       "<table border=\"1\" class=\"dataframe\">\n",
       "  <thead>\n",
       "    <tr style=\"text-align: right;\">\n",
       "      <th></th>\n",
       "      <th>text</th>\n",
       "      <th>likes</th>\n",
       "      <th>replies</th>\n",
       "      <th>retweets</th>\n",
       "      <th>quotes</th>\n",
       "      <th>timestamp</th>\n",
       "      <th>url</th>\n",
       "      <th>week</th>\n",
       "      <th>custom_week</th>\n",
       "      <th>month</th>\n",
       "      <th>cleaned_text</th>\n",
       "      <th>Total Words After</th>\n",
       "    </tr>\n",
       "  </thead>\n",
       "  <tbody>\n",
       "    <tr>\n",
       "      <th>33785</th>\n",
       "      <td>Manuprāt, diezgan vienkārši, īsi un konkrēti p...</td>\n",
       "      <td>7</td>\n",
       "      <td>1</td>\n",
       "      <td>0</td>\n",
       "      <td>1</td>\n",
       "      <td>2022-09-03 12:04:00+00:00</td>\n",
       "      <td>https://twitter.com/mooneshe/status/1566034429...</td>\n",
       "      <td>2022-08-29/2022-09-04</td>\n",
       "      <td>.</td>\n",
       "      <td>2022-09</td>\n",
       "      <td>manuprāt diezgan vienkārši īsi konkrēti pasaka...</td>\n",
       "      <td>29</td>\n",
       "    </tr>\n",
       "    <tr>\n",
       "      <th>33784</th>\n",
       "      <td>Šitādu pipļuku Saeimā? Paldies, nē. Visur rēgo...</td>\n",
       "      <td>0</td>\n",
       "      <td>0</td>\n",
       "      <td>0</td>\n",
       "      <td>0</td>\n",
       "      <td>2022-09-03 12:44:00+00:00</td>\n",
       "      <td>https://twitter.com/vagargovs/status/156604455...</td>\n",
       "      <td>2022-08-29/2022-09-04</td>\n",
       "      <td>.</td>\n",
       "      <td>2022-09</td>\n",
       "      <td>šitādu saeimā paldies visur psrs visur komunis...</td>\n",
       "      <td>30</td>\n",
       "    </tr>\n",
       "    <tr>\n",
       "      <th>33783</th>\n",
       "      <td>Pie varas esot, @krisjaniskarins neieklausās u...</td>\n",
       "      <td>5</td>\n",
       "      <td>2</td>\n",
       "      <td>5</td>\n",
       "      <td>0</td>\n",
       "      <td>2022-09-03 13:18:00+00:00</td>\n",
       "      <td>https://twitter.com/FelisMaculosus/status/1566...</td>\n",
       "      <td>2022-08-29/2022-09-04</td>\n",
       "      <td>.</td>\n",
       "      <td>2022-09</td>\n",
       "      <td>varas esot neieklausās uzņēmējos diskusijām iz...</td>\n",
       "      <td>17</td>\n",
       "    </tr>\n",
       "    <tr>\n",
       "      <th>33782</th>\n",
       "      <td>Mī un žē… Rosļikova pagalma puiku partijā 40% ...</td>\n",
       "      <td>19</td>\n",
       "      <td>2</td>\n",
       "      <td>5</td>\n",
       "      <td>1</td>\n",
       "      <td>2022-09-03 13:36:00+00:00</td>\n",
       "      <td>https://twitter.com/polittehnologs/status/1566...</td>\n",
       "      <td>2022-08-29/2022-09-04</td>\n",
       "      <td>.</td>\n",
       "      <td>2022-09</td>\n",
       "      <td>mī žē rosļikova puiku partijā vidējo izglītību...</td>\n",
       "      <td>21</td>\n",
       "    </tr>\n",
       "    <tr>\n",
       "      <th>33781</th>\n",
       "      <td>Diemžēl ar garantiju arī tiks Saeimā :(</td>\n",
       "      <td>0</td>\n",
       "      <td>0</td>\n",
       "      <td>0</td>\n",
       "      <td>0</td>\n",
       "      <td>2022-09-03 13:59:00+00:00</td>\n",
       "      <td>https://twitter.com/UldisTrokss/status/1566063...</td>\n",
       "      <td>2022-08-29/2022-09-04</td>\n",
       "      <td>.</td>\n",
       "      <td>2022-09</td>\n",
       "      <td>diemžēl garantiju saeimā</td>\n",
       "      <td>3</td>\n",
       "    </tr>\n",
       "  </tbody>\n",
       "</table>\n",
       "</div>"
      ],
      "text/plain": [
       "                                                    text  likes  replies  \\\n",
       "33785  Manuprāt, diezgan vienkārši, īsi un konkrēti p...      7        1   \n",
       "33784  Šitādu pipļuku Saeimā? Paldies, nē. Visur rēgo...      0        0   \n",
       "33783  Pie varas esot, @krisjaniskarins neieklausās u...      5        2   \n",
       "33782  Mī un žē… Rosļikova pagalma puiku partijā 40% ...     19        2   \n",
       "33781            Diemžēl ar garantiju arī tiks Saeimā :(      0        0   \n",
       "\n",
       "       retweets  quotes                 timestamp  \\\n",
       "33785         0       1 2022-09-03 12:04:00+00:00   \n",
       "33784         0       0 2022-09-03 12:44:00+00:00   \n",
       "33783         5       0 2022-09-03 13:18:00+00:00   \n",
       "33782         5       1 2022-09-03 13:36:00+00:00   \n",
       "33781         0       0 2022-09-03 13:59:00+00:00   \n",
       "\n",
       "                                                     url  \\\n",
       "33785  https://twitter.com/mooneshe/status/1566034429...   \n",
       "33784  https://twitter.com/vagargovs/status/156604455...   \n",
       "33783  https://twitter.com/FelisMaculosus/status/1566...   \n",
       "33782  https://twitter.com/polittehnologs/status/1566...   \n",
       "33781  https://twitter.com/UldisTrokss/status/1566063...   \n",
       "\n",
       "                        week custom_week    month  \\\n",
       "33785  2022-08-29/2022-09-04           .  2022-09   \n",
       "33784  2022-08-29/2022-09-04           .  2022-09   \n",
       "33783  2022-08-29/2022-09-04           .  2022-09   \n",
       "33782  2022-08-29/2022-09-04           .  2022-09   \n",
       "33781  2022-08-29/2022-09-04           .  2022-09   \n",
       "\n",
       "                                            cleaned_text  Total Words After  \n",
       "33785  manuprāt diezgan vienkārši īsi konkrēti pasaka...                 29  \n",
       "33784  šitādu saeimā paldies visur psrs visur komunis...                 30  \n",
       "33783  varas esot neieklausās uzņēmējos diskusijām iz...                 17  \n",
       "33782  mī žē rosļikova puiku partijā vidējo izglītību...                 21  \n",
       "33781                           diemžēl garantiju saeimā                  3  "
      ]
     },
     "execution_count": 156,
     "metadata": {},
     "output_type": "execute_result"
    }
   ],
   "source": [
    "cleaned_df.head()"
   ]
  },
  {
   "cell_type": "markdown",
   "id": "592feaca-db90-4599-8ef1-c921953301d7",
   "metadata": {},
   "source": [
    "# Save preprocessed and not lemmatized full data"
   ]
  },
  {
   "cell_type": "code",
   "execution_count": 157,
   "id": "cff85aa6-1c5d-4ef3-a4f5-c1e37994b99c",
   "metadata": {},
   "outputs": [
    {
     "name": "stdout",
     "output_type": "stream",
     "text": [
      "DataFrame saved to preprocessed_not_lemmatized_full_data.csv\n"
     ]
    }
   ],
   "source": [
    "# Save the cleaned DataFrame to a CSV file\n",
    "csv_filename = \"preprocessed_not_lemmatized_full_data.csv\"\n",
    "cleaned_df.to_csv(csv_filename, index=False)\n",
    "\n",
    "print(f\"DataFrame saved to {csv_filename}\")"
   ]
  },
  {
   "cell_type": "markdown",
   "id": "7c9ee385",
   "metadata": {},
   "source": [
    "# Lemmatization"
   ]
  },
  {
   "cell_type": "markdown",
   "id": "25ab0975-0963-43fa-94e2-f52738ed5f19",
   "metadata": {},
   "source": [
    "# Important information"
   ]
  },
  {
   "cell_type": "code",
   "execution_count": 158,
   "id": "8d1d874a-ea31-4b4a-ba76-7935c5afb33b",
   "metadata": {},
   "outputs": [],
   "source": [
    "# The lemmatization is done using Java program.\n",
    "# First data is exported to a csv file.\n",
    "# Next, the Java lemmatization program is executed using the exported file. \n",
    "# The lemmatized dataset is finally imported back in Jupyter Notebook using the specified import file."
   ]
  },
  {
   "cell_type": "markdown",
   "id": "d48258a9",
   "metadata": {},
   "source": [
    "# Export the dataset before lemmatization"
   ]
  },
  {
   "cell_type": "code",
   "execution_count": 159,
   "id": "bfc4644d",
   "metadata": {},
   "outputs": [],
   "source": [
    "# Export it to a CSV file with the desired name at the specified location\n",
    "output_file_path = r'C:\\Users\\tomsb\\Lemmas\\Datasets\\36K_preprocessed_for_lemmatization.csv'\n",
    "cleaned_df.to_csv(output_file_path, index=False)"
   ]
  },
  {
   "cell_type": "markdown",
   "id": "845af960",
   "metadata": {},
   "source": [
    "# Import the file back affter lemmatization"
   ]
  },
  {
   "cell_type": "code",
   "execution_count": 160,
   "id": "159a9e28",
   "metadata": {},
   "outputs": [],
   "source": [
    "# Specify the file path\n",
    "file_path = r'C:\\Users\\tomsb\\Lemmas\\Datasets\\36K_Lemmatized.csv'\n",
    "\n",
    "# Read the CSV file into a DataFrame\n",
    "df = pd.read_csv(file_path)"
   ]
  },
  {
   "cell_type": "code",
   "execution_count": 161,
   "id": "ce07d504-043b-4ede-afb6-5d1a9257221e",
   "metadata": {},
   "outputs": [
    {
     "data": {
      "text/plain": [
       "26765"
      ]
     },
     "execution_count": 161,
     "metadata": {},
     "output_type": "execute_result"
    }
   ],
   "source": [
    "len(df)"
   ]
  },
  {
   "cell_type": "markdown",
   "id": "76bf50f1-aae3-4f97-8d8e-5c835c0e1ff1",
   "metadata": {},
   "source": [
    "# Save preprocessed and lemmatized full data"
   ]
  },
  {
   "cell_type": "code",
   "execution_count": 162,
   "id": "2e38ec38-40d5-4146-9308-4a1b6af595d3",
   "metadata": {},
   "outputs": [
    {
     "name": "stdout",
     "output_type": "stream",
     "text": [
      "DataFrame saved to preprocessed_and_lemmatized_full_data.csv\n"
     ]
    }
   ],
   "source": [
    "# Save the cleaned DataFrame to a CSV file\n",
    "csv_filename = \"preprocessed_and_lemmatized_full_data.csv\"\n",
    "df.to_csv(csv_filename, index=False)\n",
    "\n",
    "print(f\"DataFrame saved to {csv_filename}\")"
   ]
  },
  {
   "cell_type": "markdown",
   "id": "b241162d-e813-4c56-848b-7ece01707670",
   "metadata": {},
   "source": [
    "# Import annotated data, preprocess, and save the preprocessed labelled data"
   ]
  },
  {
   "cell_type": "code",
   "execution_count": 172,
   "id": "e22711d4-ce84-4fe5-a1a9-c050bbe599a9",
   "metadata": {},
   "outputs": [],
   "source": [
    "labelled_data = pd.read_csv('tweets_for_annotation.csv')"
   ]
  },
  {
   "cell_type": "code",
   "execution_count": 173,
   "id": "a0afc19d-fe25-47df-9c97-9da5a9d0fd0a",
   "metadata": {},
   "outputs": [
    {
     "data": {
      "text/plain": [
       "9996"
      ]
     },
     "execution_count": 173,
     "metadata": {},
     "output_type": "execute_result"
    }
   ],
   "source": [
    "len(labelled_data)"
   ]
  },
  {
   "cell_type": "code",
   "execution_count": 174,
   "id": "6bdf3b7e-a1c7-43db-8afc-5ebdf5214766",
   "metadata": {},
   "outputs": [
    {
     "name": "stdout",
     "output_type": "stream",
     "text": [
      "<class 'pandas.core.frame.DataFrame'>\n",
      "RangeIndex: 9996 entries, 0 to 9995\n",
      "Data columns (total 2 columns):\n",
      " #   Column  Non-Null Count  Dtype \n",
      "---  ------  --------------  ----- \n",
      " 0   text    9996 non-null   object\n",
      " 1   label   9996 non-null   int64 \n",
      "dtypes: int64(1), object(1)\n",
      "memory usage: 156.3+ KB\n"
     ]
    }
   ],
   "source": [
    "labelled_data.info()"
   ]
  },
  {
   "cell_type": "code",
   "execution_count": 175,
   "id": "8a2e594f-829f-47d3-bd4f-fcbde94545e4",
   "metadata": {},
   "outputs": [
    {
     "data": {
      "text/html": [
       "<div>\n",
       "<style scoped>\n",
       "    .dataframe tbody tr th:only-of-type {\n",
       "        vertical-align: middle;\n",
       "    }\n",
       "\n",
       "    .dataframe tbody tr th {\n",
       "        vertical-align: top;\n",
       "    }\n",
       "\n",
       "    .dataframe thead th {\n",
       "        text-align: right;\n",
       "    }\n",
       "</style>\n",
       "<table border=\"1\" class=\"dataframe\">\n",
       "  <thead>\n",
       "    <tr style=\"text-align: right;\">\n",
       "      <th></th>\n",
       "      <th>text</th>\n",
       "      <th>label</th>\n",
       "    </tr>\n",
       "  </thead>\n",
       "  <tbody>\n",
       "    <tr>\n",
       "      <th>0</th>\n",
       "      <td>🎉 VĒSTURISKA UZVARA!Šodien Saeima ar 70 balsīm...</td>\n",
       "      <td>1</td>\n",
       "    </tr>\n",
       "    <tr>\n",
       "      <th>1</th>\n",
       "      <td>Gobzems nometis visas maskas - šobrīd Saeimā ļ...</td>\n",
       "      <td>-1</td>\n",
       "    </tr>\n",
       "    <tr>\n",
       "      <th>2</th>\n",
       "      <td>Šodien Saeimas komisijā atbalstīja manus un NA...</td>\n",
       "      <td>0</td>\n",
       "    </tr>\n",
       "    <tr>\n",
       "      <th>3</th>\n",
       "      <td>Latvijas Republikas Saeima gala lasījumā atbal...</td>\n",
       "      <td>0</td>\n",
       "    </tr>\n",
       "    <tr>\n",
       "      <th>4</th>\n",
       "      <td>\"Jūlijas Stepeņenko vīrs, biedrs Vjačeslavs St...</td>\n",
       "      <td>-1</td>\n",
       "    </tr>\n",
       "  </tbody>\n",
       "</table>\n",
       "</div>"
      ],
      "text/plain": [
       "                                                text  label\n",
       "0  🎉 VĒSTURISKA UZVARA!Šodien Saeima ar 70 balsīm...      1\n",
       "1  Gobzems nometis visas maskas - šobrīd Saeimā ļ...     -1\n",
       "2  Šodien Saeimas komisijā atbalstīja manus un NA...      0\n",
       "3  Latvijas Republikas Saeima gala lasījumā atbal...      0\n",
       "4  \"Jūlijas Stepeņenko vīrs, biedrs Vjačeslavs St...     -1"
      ]
     },
     "execution_count": 175,
     "metadata": {},
     "output_type": "execute_result"
    }
   ],
   "source": [
    "# Remove duplicates\n",
    "labelled_data = labelled_data.drop_duplicates(subset='text')\n",
    "\n",
    "# Convert all data in the \"text\" column to strings\n",
    "labelled_data['text'] = labelled_data['text'].astype(str)\n",
    "\n",
    "# Remove any empty tweets\n",
    "labelled_data = labelled_data[labelled_data['text'].str.strip() != '']\n",
    "\n",
    "# Reset the index after removing rows\n",
    "labelled_data.reset_index(drop=True, inplace=True)\n",
    "\n",
    "labelled_data.head()"
   ]
  },
  {
   "cell_type": "code",
   "execution_count": 176,
   "id": "6025dc8a-297e-4548-9067-b5957e2b039c",
   "metadata": {},
   "outputs": [
    {
     "data": {
      "text/plain": [
       "9990"
      ]
     },
     "execution_count": 176,
     "metadata": {},
     "output_type": "execute_result"
    }
   ],
   "source": [
    "len(labelled_data)"
   ]
  },
  {
   "cell_type": "markdown",
   "id": "fb2d3079-a554-4531-95ce-ea35bd142ca1",
   "metadata": {},
   "source": [
    "# Apply the preprocessing to labelled dataset"
   ]
  },
  {
   "cell_type": "code",
   "execution_count": 177,
   "id": "c1713fd7-c16d-45c3-bd44-46f321b188e3",
   "metadata": {},
   "outputs": [],
   "source": [
    "tweets = labelled_data['text'].tolist()  # Convert all tweets to a list"
   ]
  },
  {
   "cell_type": "code",
   "execution_count": 178,
   "id": "2e0cab49-3dd9-4a47-8ce9-c47a194eff1f",
   "metadata": {},
   "outputs": [
    {
     "name": "stderr",
     "output_type": "stream",
     "text": [
      "C:\\Users\\tomsb\\AppData\\Local\\Temp\\ipykernel_18692\\269620423.py:107: FutureWarning: Setting an item of incompatible dtype is deprecated and will raise in a future error of pandas. Value 'vēsturiska uzvara šodien saeima balsīm pieņēma zvēraudzēšanas aizliegumu kas nosaka pilnībā jāizbeidz dzīvnieku audzēšana kažokādām gada janvārim šie ietekmīgākie likuma grozījumi kas aiztaupīs ciešanas simtiem tūkstošiem dzīvnieku gadu' has dtype incompatible with float64, please explicitly cast to a compatible dtype first.\n",
      "  cleaned_tweets[idx] = cleaned_tweet\n"
     ]
    },
    {
     "name": "stdout",
     "output_type": "stream",
     "text": [
      "Finished in 22.3 seconds\n",
      "Tweets left after language detection: 9985\n"
     ]
    }
   ],
   "source": [
    "# Start the timer\n",
    "start_time = time.time()\n",
    "\n",
    "# Create a copy of the original DataFrame to preserve it\n",
    "cleaned_df = labelled_data.copy()\n",
    "\n",
    "# Get the original index of the DataFrame\n",
    "original_index = cleaned_df.index\n",
    "\n",
    "# Apply the language detection and preprocessing function to each row in the DataFrame\n",
    "cleaned_tweets = preprocess_and_filter_tweets(cleaned_df['text'], original_index)\n",
    "\n",
    "# Create a new DataFrame by combining the original DataFrame and cleaned tweets\n",
    "cleaned_df['cleaned_text'] = cleaned_tweets\n",
    "\n",
    "# Remove rows with NaN values in the 'cleaned_text' column\n",
    "cleaned_df.dropna(subset=['cleaned_text'], inplace=True)\n",
    "\n",
    "# End the timer\n",
    "end_time = time.time()\n",
    "\n",
    "# Calculate and print the execution time\n",
    "execution = round(end_time - start_time, 1)\n",
    "print(f'Finished in {execution} seconds')\n",
    "\n",
    "# Print the results\n",
    "print(f'Tweets left after language detection: {len(cleaned_df)}')\n",
    "\n",
    "# Now, 'cleaned_df' contains only the rows with tweets primarily in Latvian, and you've preserved all the original index and columns from the 'df' DataFrame."
   ]
  },
  {
   "cell_type": "code",
   "execution_count": 179,
   "id": "33fd35cf-80c0-4b09-8ade-4d5f7c1369c5",
   "metadata": {},
   "outputs": [],
   "source": [
    "# Define the threshold percentage\n",
    "threshold_percentage = 0.01  # For example, to remove infrequent words below 1%\n",
    "\n",
    "# Call the function to get the DataFrame with infrequent words removed\n",
    "cleaned_df = remove_infrequent_words(cleaned_df, 'cleaned_text', threshold_percentage)"
   ]
  },
  {
   "cell_type": "code",
   "execution_count": 180,
   "id": "3f4f7767-749d-4393-b532-fe877f11e871",
   "metadata": {},
   "outputs": [
    {
     "data": {
      "text/html": [
       "<div>\n",
       "<style scoped>\n",
       "    .dataframe tbody tr th:only-of-type {\n",
       "        vertical-align: middle;\n",
       "    }\n",
       "\n",
       "    .dataframe tbody tr th {\n",
       "        vertical-align: top;\n",
       "    }\n",
       "\n",
       "    .dataframe thead th {\n",
       "        text-align: right;\n",
       "    }\n",
       "</style>\n",
       "<table border=\"1\" class=\"dataframe\">\n",
       "  <thead>\n",
       "    <tr style=\"text-align: right;\">\n",
       "      <th></th>\n",
       "      <th>text</th>\n",
       "      <th>label</th>\n",
       "      <th>cleaned_text</th>\n",
       "      <th>Total Words After</th>\n",
       "    </tr>\n",
       "  </thead>\n",
       "  <tbody>\n",
       "    <tr>\n",
       "      <th>0</th>\n",
       "      <td>🎉 VĒSTURISKA UZVARA!Šodien Saeima ar 70 balsīm...</td>\n",
       "      <td>1</td>\n",
       "      <td>uzvara šodien saeima balsīm pieņēma zvēraudzēš...</td>\n",
       "      <td>25</td>\n",
       "    </tr>\n",
       "    <tr>\n",
       "      <th>1</th>\n",
       "      <td>Gobzems nometis visas maskas - šobrīd Saeimā ļ...</td>\n",
       "      <td>-1</td>\n",
       "      <td>gobzems visas maskas šobrīd saeimā ļoti aktīvi...</td>\n",
       "      <td>21</td>\n",
       "    </tr>\n",
       "    <tr>\n",
       "      <th>2</th>\n",
       "      <td>Šodien Saeimas komisijā atbalstīja manus un NA...</td>\n",
       "      <td>0</td>\n",
       "      <td>šodien saeimas komisijā atbalstīja manus na pr...</td>\n",
       "      <td>30</td>\n",
       "    </tr>\n",
       "    <tr>\n",
       "      <th>3</th>\n",
       "      <td>Latvijas Republikas Saeima gala lasījumā atbal...</td>\n",
       "      <td>0</td>\n",
       "      <td>latvijas republikas saeima gala lasījumā atbal...</td>\n",
       "      <td>25</td>\n",
       "    </tr>\n",
       "    <tr>\n",
       "      <th>4</th>\n",
       "      <td>\"Jūlijas Stepeņenko vīrs, biedrs Vjačeslavs St...</td>\n",
       "      <td>-1</td>\n",
       "      <td>vīrs biedrs stepaņenko suverēnās varas mēģina ...</td>\n",
       "      <td>14</td>\n",
       "    </tr>\n",
       "  </tbody>\n",
       "</table>\n",
       "</div>"
      ],
      "text/plain": [
       "                                                text  label  \\\n",
       "0  🎉 VĒSTURISKA UZVARA!Šodien Saeima ar 70 balsīm...      1   \n",
       "1  Gobzems nometis visas maskas - šobrīd Saeimā ļ...     -1   \n",
       "2  Šodien Saeimas komisijā atbalstīja manus un NA...      0   \n",
       "3  Latvijas Republikas Saeima gala lasījumā atbal...      0   \n",
       "4  \"Jūlijas Stepeņenko vīrs, biedrs Vjačeslavs St...     -1   \n",
       "\n",
       "                                        cleaned_text  Total Words After  \n",
       "0  uzvara šodien saeima balsīm pieņēma zvēraudzēš...                 25  \n",
       "1  gobzems visas maskas šobrīd saeimā ļoti aktīvi...                 21  \n",
       "2  šodien saeimas komisijā atbalstīja manus na pr...                 30  \n",
       "3  latvijas republikas saeima gala lasījumā atbal...                 25  \n",
       "4  vīrs biedrs stepaņenko suverēnās varas mēģina ...                 14  "
      ]
     },
     "execution_count": 180,
     "metadata": {},
     "output_type": "execute_result"
    }
   ],
   "source": [
    "cleaned_df.head()"
   ]
  },
  {
   "cell_type": "code",
   "execution_count": 182,
   "id": "b6c6e0db-2b91-4c40-87f4-9ecda7ac623a",
   "metadata": {},
   "outputs": [],
   "source": [
    "cleaned_df.drop(columns=['Total Words After'], inplace=True)"
   ]
  },
  {
   "cell_type": "code",
   "execution_count": 183,
   "id": "3ae9b9e0-8a41-4973-8a1d-fbd7860d6787",
   "metadata": {},
   "outputs": [
    {
     "data": {
      "text/plain": [
       "9985"
      ]
     },
     "execution_count": 183,
     "metadata": {},
     "output_type": "execute_result"
    }
   ],
   "source": [
    "len(cleaned_df)"
   ]
  },
  {
   "cell_type": "markdown",
   "id": "e243bfa2-f871-4efd-bfb1-162bae1489f5",
   "metadata": {},
   "source": [
    "# Save preprocessed and not lemmatized labelled data"
   ]
  },
  {
   "cell_type": "code",
   "execution_count": 117,
   "id": "fc7407a5-20ec-4719-a9e9-04e422ea44d9",
   "metadata": {},
   "outputs": [
    {
     "name": "stdout",
     "output_type": "stream",
     "text": [
      "DataFrame saved to preprocessed_not_lemmatized_labelled_data.csv\n"
     ]
    }
   ],
   "source": [
    "# Save the cleaned DataFrame to a CSV file\n",
    "csv_filename = \"preprocessed_not_lemmatized_labelled_data.csv\"\n",
    "cleaned_df.to_csv(csv_filename, index=False)\n",
    "\n",
    "print(f\"DataFrame saved to {csv_filename}\")"
   ]
  },
  {
   "cell_type": "markdown",
   "id": "5e5f2234",
   "metadata": {},
   "source": [
    "# Export the dataset before lemmatization"
   ]
  },
  {
   "cell_type": "code",
   "execution_count": 120,
   "id": "d094a8ae",
   "metadata": {},
   "outputs": [],
   "source": [
    "# Export it to a CSV file with the desired name at the specified location\n",
    "output_file_path = r'C:\\Users\\tomsb\\Lemmas\\Datasets\\labelled_dataset_lemmatization.csv'\n",
    "cleaned_df.to_csv(output_file_path, index=False)\n",
    "cleaned_df.to_csv(output_file_path, index=False)"
   ]
  },
  {
   "cell_type": "markdown",
   "id": "3669b61e",
   "metadata": {},
   "source": [
    "# Import the file back after lemmatization"
   ]
  },
  {
   "cell_type": "code",
   "execution_count": 121,
   "id": "15c5fa66",
   "metadata": {},
   "outputs": [],
   "source": [
    "# Specify the file path\n",
    "file_path = r'C:\\Users\\tomsb\\Lemmas\\Datasets\\labelled_dataset_lemmatized.csv'\n",
    "\n",
    "# Read the CSV file into a DataFrame\n",
    "df_labelled = pd.read_csv(file_path)"
   ]
  },
  {
   "cell_type": "code",
   "execution_count": 124,
   "id": "09540b62-f133-4af6-9d8a-5f73f46bab27",
   "metadata": {},
   "outputs": [
    {
     "data": {
      "text/html": [
       "<div>\n",
       "<style scoped>\n",
       "    .dataframe tbody tr th:only-of-type {\n",
       "        vertical-align: middle;\n",
       "    }\n",
       "\n",
       "    .dataframe tbody tr th {\n",
       "        vertical-align: top;\n",
       "    }\n",
       "\n",
       "    .dataframe thead th {\n",
       "        text-align: right;\n",
       "    }\n",
       "</style>\n",
       "<table border=\"1\" class=\"dataframe\">\n",
       "  <thead>\n",
       "    <tr style=\"text-align: right;\">\n",
       "      <th></th>\n",
       "      <th>text</th>\n",
       "      <th>label</th>\n",
       "      <th>cleaned_text</th>\n",
       "    </tr>\n",
       "  </thead>\n",
       "  <tbody>\n",
       "    <tr>\n",
       "      <th>0</th>\n",
       "      <td>🎉 VĒSTURISKA UZVARA!Šodien Saeima ar 70 balsīm...</td>\n",
       "      <td>1</td>\n",
       "      <td>vēsturisks uzvara šodien saeima balss pieņemt ...</td>\n",
       "    </tr>\n",
       "    <tr>\n",
       "      <th>1</th>\n",
       "      <td>Gobzems nometis visas maskas - šobrīd Saeimā ļ...</td>\n",
       "      <td>-1</td>\n",
       "      <td>gobzems nomest viss maska šobrīd saeima ļoti a...</td>\n",
       "    </tr>\n",
       "    <tr>\n",
       "      <th>2</th>\n",
       "      <td>Šodien Saeimas komisijā atbalstīja manus un NA...</td>\n",
       "      <td>0</td>\n",
       "      <td>šodien saeima komisija atbalstīt mans na priek...</td>\n",
       "    </tr>\n",
       "    <tr>\n",
       "      <th>3</th>\n",
       "      <td>Latvijas Republikas Saeima gala lasījumā atbal...</td>\n",
       "      <td>0</td>\n",
       "      <td>latvija republika saeima gals lasījums atbalst...</td>\n",
       "    </tr>\n",
       "    <tr>\n",
       "      <th>4</th>\n",
       "      <td>\"Jūlijas Stepeņenko vīrs, biedrs Vjačeslavs St...</td>\n",
       "      <td>-1</td>\n",
       "      <td>jūlija stepeņenko vīrs biedrs vjačeslavs stepa...</td>\n",
       "    </tr>\n",
       "  </tbody>\n",
       "</table>\n",
       "</div>"
      ],
      "text/plain": [
       "                                                text  label  \\\n",
       "0  🎉 VĒSTURISKA UZVARA!Šodien Saeima ar 70 balsīm...      1   \n",
       "1  Gobzems nometis visas maskas - šobrīd Saeimā ļ...     -1   \n",
       "2  Šodien Saeimas komisijā atbalstīja manus un NA...      0   \n",
       "3  Latvijas Republikas Saeima gala lasījumā atbal...      0   \n",
       "4  \"Jūlijas Stepeņenko vīrs, biedrs Vjačeslavs St...     -1   \n",
       "\n",
       "                                        cleaned_text  \n",
       "0  vēsturisks uzvara šodien saeima balss pieņemt ...  \n",
       "1  gobzems nomest viss maska šobrīd saeima ļoti a...  \n",
       "2  šodien saeima komisija atbalstīt mans na priek...  \n",
       "3  latvija republika saeima gals lasījums atbalst...  \n",
       "4  jūlija stepeņenko vīrs biedrs vjačeslavs stepa...  "
      ]
     },
     "execution_count": 124,
     "metadata": {},
     "output_type": "execute_result"
    }
   ],
   "source": [
    "df_labelled.head()"
   ]
  },
  {
   "cell_type": "markdown",
   "id": "15626fa9-9591-4f60-a3f5-fbcc7ebc54ce",
   "metadata": {},
   "source": [
    "# Save preprocessed and lemmatized labelled data"
   ]
  },
  {
   "cell_type": "code",
   "execution_count": 125,
   "id": "003909e3-57b6-4a08-bdfd-3a1da2c89414",
   "metadata": {},
   "outputs": [
    {
     "name": "stdout",
     "output_type": "stream",
     "text": [
      "DataFrame saved to preprocessed_and_lemmatized_labelled_data.csv\n"
     ]
    }
   ],
   "source": [
    "# Save the cleaned DataFrame to a CSV file\n",
    "csv_filename = \"preprocessed_and_lemmatized_labelled_data.csv\"\n",
    "df_labelled.to_csv(csv_filename, index=False)\n",
    "\n",
    "print(f\"DataFrame saved to {csv_filename}\")"
   ]
  },
  {
   "cell_type": "code",
   "execution_count": null,
   "id": "6aa20a3c-3725-4275-a19b-2aab124a513b",
   "metadata": {},
   "outputs": [],
   "source": []
  },
  {
   "cell_type": "code",
   "execution_count": null,
   "id": "5071277e-8d16-4152-a4ec-a56a511356de",
   "metadata": {},
   "outputs": [],
   "source": []
  },
  {
   "cell_type": "code",
   "execution_count": null,
   "id": "21882e8b-b3ce-40bb-8ae0-4d904b21a625",
   "metadata": {},
   "outputs": [],
   "source": []
  },
  {
   "cell_type": "code",
   "execution_count": null,
   "id": "200cda59-d07b-49db-a59d-3921f9ce9cd7",
   "metadata": {},
   "outputs": [],
   "source": []
  },
  {
   "cell_type": "code",
   "execution_count": null,
   "id": "720592a7-f68b-4108-879a-ccbdd13a61d2",
   "metadata": {},
   "outputs": [],
   "source": []
  },
  {
   "cell_type": "markdown",
   "id": "26d1dcaf",
   "metadata": {},
   "source": [
    "# Create a sample of 10K tweets for annotation"
   ]
  },
  {
   "cell_type": "code",
   "execution_count": 184,
   "id": "b5e39bcd-d412-49aa-89e7-6a150f20930b",
   "metadata": {},
   "outputs": [
    {
     "data": {
      "text/plain": [
       "26765"
      ]
     },
     "execution_count": 184,
     "metadata": {},
     "output_type": "execute_result"
    }
   ],
   "source": [
    "df_copy = pd.read_csv('preprocessed_not_lemmatized_full_data.csv')\n",
    "len(df_copy)"
   ]
  },
  {
   "cell_type": "code",
   "execution_count": 185,
   "id": "5f86b5a1-31bd-477c-ad9a-65bfb1f6cfde",
   "metadata": {
    "scrolled": true
   },
   "outputs": [
    {
     "data": {
      "text/html": [
       "<div>\n",
       "<style scoped>\n",
       "    .dataframe tbody tr th:only-of-type {\n",
       "        vertical-align: middle;\n",
       "    }\n",
       "\n",
       "    .dataframe tbody tr th {\n",
       "        vertical-align: top;\n",
       "    }\n",
       "\n",
       "    .dataframe thead th {\n",
       "        text-align: right;\n",
       "    }\n",
       "</style>\n",
       "<table border=\"1\" class=\"dataframe\">\n",
       "  <thead>\n",
       "    <tr style=\"text-align: right;\">\n",
       "      <th></th>\n",
       "      <th>text</th>\n",
       "      <th>likes</th>\n",
       "      <th>replies</th>\n",
       "      <th>retweets</th>\n",
       "      <th>quotes</th>\n",
       "      <th>timestamp</th>\n",
       "      <th>url</th>\n",
       "      <th>week</th>\n",
       "      <th>custom_week</th>\n",
       "      <th>month</th>\n",
       "      <th>cleaned_text</th>\n",
       "      <th>Total Words After</th>\n",
       "    </tr>\n",
       "  </thead>\n",
       "  <tbody>\n",
       "    <tr>\n",
       "      <th>0</th>\n",
       "      <td>Manuprāt, diezgan vienkārši, īsi un konkrēti p...</td>\n",
       "      <td>7</td>\n",
       "      <td>1</td>\n",
       "      <td>0</td>\n",
       "      <td>1</td>\n",
       "      <td>2022-09-03 12:04:00+00:00</td>\n",
       "      <td>https://twitter.com/mooneshe/status/1566034429...</td>\n",
       "      <td>2022-08-29/2022-09-04</td>\n",
       "      <td>.</td>\n",
       "      <td>2022-09</td>\n",
       "      <td>manuprāt diezgan vienkārši īsi konkrēti pasaka...</td>\n",
       "      <td>29</td>\n",
       "    </tr>\n",
       "    <tr>\n",
       "      <th>1</th>\n",
       "      <td>Šitādu pipļuku Saeimā? Paldies, nē. Visur rēgo...</td>\n",
       "      <td>0</td>\n",
       "      <td>0</td>\n",
       "      <td>0</td>\n",
       "      <td>0</td>\n",
       "      <td>2022-09-03 12:44:00+00:00</td>\n",
       "      <td>https://twitter.com/vagargovs/status/156604455...</td>\n",
       "      <td>2022-08-29/2022-09-04</td>\n",
       "      <td>.</td>\n",
       "      <td>2022-09</td>\n",
       "      <td>šitādu saeimā paldies visur psrs visur komunis...</td>\n",
       "      <td>30</td>\n",
       "    </tr>\n",
       "    <tr>\n",
       "      <th>2</th>\n",
       "      <td>Pie varas esot, @krisjaniskarins neieklausās u...</td>\n",
       "      <td>5</td>\n",
       "      <td>2</td>\n",
       "      <td>5</td>\n",
       "      <td>0</td>\n",
       "      <td>2022-09-03 13:18:00+00:00</td>\n",
       "      <td>https://twitter.com/FelisMaculosus/status/1566...</td>\n",
       "      <td>2022-08-29/2022-09-04</td>\n",
       "      <td>.</td>\n",
       "      <td>2022-09</td>\n",
       "      <td>varas esot neieklausās uzņēmējos diskusijām iz...</td>\n",
       "      <td>17</td>\n",
       "    </tr>\n",
       "    <tr>\n",
       "      <th>3</th>\n",
       "      <td>Mī un žē… Rosļikova pagalma puiku partijā 40% ...</td>\n",
       "      <td>19</td>\n",
       "      <td>2</td>\n",
       "      <td>5</td>\n",
       "      <td>1</td>\n",
       "      <td>2022-09-03 13:36:00+00:00</td>\n",
       "      <td>https://twitter.com/polittehnologs/status/1566...</td>\n",
       "      <td>2022-08-29/2022-09-04</td>\n",
       "      <td>.</td>\n",
       "      <td>2022-09</td>\n",
       "      <td>mī žē rosļikova puiku partijā vidējo izglītību...</td>\n",
       "      <td>21</td>\n",
       "    </tr>\n",
       "    <tr>\n",
       "      <th>4</th>\n",
       "      <td>Diemžēl ar garantiju arī tiks Saeimā :(</td>\n",
       "      <td>0</td>\n",
       "      <td>0</td>\n",
       "      <td>0</td>\n",
       "      <td>0</td>\n",
       "      <td>2022-09-03 13:59:00+00:00</td>\n",
       "      <td>https://twitter.com/UldisTrokss/status/1566063...</td>\n",
       "      <td>2022-08-29/2022-09-04</td>\n",
       "      <td>.</td>\n",
       "      <td>2022-09</td>\n",
       "      <td>diemžēl garantiju saeimā</td>\n",
       "      <td>3</td>\n",
       "    </tr>\n",
       "  </tbody>\n",
       "</table>\n",
       "</div>"
      ],
      "text/plain": [
       "                                                text  likes  replies  \\\n",
       "0  Manuprāt, diezgan vienkārši, īsi un konkrēti p...      7        1   \n",
       "1  Šitādu pipļuku Saeimā? Paldies, nē. Visur rēgo...      0        0   \n",
       "2  Pie varas esot, @krisjaniskarins neieklausās u...      5        2   \n",
       "3  Mī un žē… Rosļikova pagalma puiku partijā 40% ...     19        2   \n",
       "4            Diemžēl ar garantiju arī tiks Saeimā :(      0        0   \n",
       "\n",
       "   retweets  quotes                  timestamp  \\\n",
       "0         0       1  2022-09-03 12:04:00+00:00   \n",
       "1         0       0  2022-09-03 12:44:00+00:00   \n",
       "2         5       0  2022-09-03 13:18:00+00:00   \n",
       "3         5       1  2022-09-03 13:36:00+00:00   \n",
       "4         0       0  2022-09-03 13:59:00+00:00   \n",
       "\n",
       "                                                 url                   week  \\\n",
       "0  https://twitter.com/mooneshe/status/1566034429...  2022-08-29/2022-09-04   \n",
       "1  https://twitter.com/vagargovs/status/156604455...  2022-08-29/2022-09-04   \n",
       "2  https://twitter.com/FelisMaculosus/status/1566...  2022-08-29/2022-09-04   \n",
       "3  https://twitter.com/polittehnologs/status/1566...  2022-08-29/2022-09-04   \n",
       "4  https://twitter.com/UldisTrokss/status/1566063...  2022-08-29/2022-09-04   \n",
       "\n",
       "  custom_week    month                                       cleaned_text  \\\n",
       "0           .  2022-09  manuprāt diezgan vienkārši īsi konkrēti pasaka...   \n",
       "1           .  2022-09  šitādu saeimā paldies visur psrs visur komunis...   \n",
       "2           .  2022-09  varas esot neieklausās uzņēmējos diskusijām iz...   \n",
       "3           .  2022-09  mī žē rosļikova puiku partijā vidējo izglītību...   \n",
       "4           .  2022-09                           diemžēl garantiju saeimā   \n",
       "\n",
       "   Total Words After  \n",
       "0                 29  \n",
       "1                 30  \n",
       "2                 17  \n",
       "3                 21  \n",
       "4                  3  "
      ]
     },
     "execution_count": 185,
     "metadata": {},
     "output_type": "execute_result"
    }
   ],
   "source": [
    "df_copy.head()"
   ]
  },
  {
   "cell_type": "code",
   "execution_count": 186,
   "id": "c8a238a5",
   "metadata": {},
   "outputs": [
    {
     "name": "stderr",
     "output_type": "stream",
     "text": [
      "C:\\Users\\tomsb\\AppData\\Local\\Temp\\ipykernel_18692\\1464730926.py:24: FutureWarning: The behavior of DataFrame concatenation with empty or all-NA entries is deprecated. In a future version, this will no longer exclude empty or all-NA columns when determining the result dtypes. To retain the old behavior, exclude the relevant entries before the concat operation.\n",
      "  selected_df = pd.concat([selected_df, selected_tweets], axis=0)\n"
     ]
    }
   ],
   "source": [
    "# Convert the 'month' column to a datetime type\n",
    "df_copy['month'] = pd.to_datetime(df_copy['month'])\n",
    "\n",
    "# Filter the DataFrame to include only years 2022 and 2023\n",
    "df_copy = df_copy[(df_copy['month'].dt.year == 2022) | (df_copy['month'].dt.year == 2023)]\n",
    "\n",
    "# Sort the DataFrame by the 'month' column and 'likes' column\n",
    "df_copy = df_copy.sort_values(by=['likes', 'likes'], ascending=[True, False])\n",
    "\n",
    "# Calculate the number of tweets per month\n",
    "tweets_per_month = 10000 / len(df_copy['month'].dt.strftime('%Y-%m').unique())\n",
    "\n",
    "# Create an empty DataFrame to store the selected tweets\n",
    "selected_df = pd.DataFrame(columns=df_copy.columns)\n",
    "\n",
    "# Loop through each month and select tweets with the most likes\n",
    "for month, group in df_copy.groupby(df_copy['month'].dt.strftime('%Y-%m')):\n",
    "    if len(group) <= tweets_per_month:\n",
    "        # If there are fewer tweets than needed, select all tweets\n",
    "        selected_tweets = group\n",
    "    else:\n",
    "        # If there are enough tweets, select the top tweets with the most likes\n",
    "        selected_tweets = group.nlargest(int(tweets_per_month), 'likes')\n",
    "    selected_df = pd.concat([selected_df, selected_tweets], axis=0)\n",
    "\n",
    "# Reset the index of the resulting DataFrame\n",
    "selected_df.reset_index(drop=True, inplace=True)\n",
    "\n",
    "# Rename the DataFrame to df\n",
    "df_selected = selected_df.copy()\n",
    "\n",
    "# Now, your resulting DataFrame is named df_selected, with tweets from 2022 and 2023 maintaining the distribution over months and selected based on the most likes within each month.\n",
    "df_selected['text'].to_csv('dataset_for_annotation.txt', header=False, index=True, sep='\\t')"
   ]
  },
  {
   "cell_type": "code",
   "execution_count": 187,
   "id": "91a279ea-0307-4ac5-8153-eceffefbe2d6",
   "metadata": {},
   "outputs": [
    {
     "data": {
      "text/plain": [
       "9996"
      ]
     },
     "execution_count": 187,
     "metadata": {},
     "output_type": "execute_result"
    }
   ],
   "source": [
    "len(df_selected)"
   ]
  }
 ],
 "metadata": {
  "kernelspec": {
   "display_name": "Python 3 (ipykernel)",
   "language": "python",
   "name": "python3"
  },
  "language_info": {
   "codemirror_mode": {
    "name": "ipython",
    "version": 3
   },
   "file_extension": ".py",
   "mimetype": "text/x-python",
   "name": "python",
   "nbconvert_exporter": "python",
   "pygments_lexer": "ipython3",
   "version": "3.11.5"
  }
 },
 "nbformat": 4,
 "nbformat_minor": 5
}
