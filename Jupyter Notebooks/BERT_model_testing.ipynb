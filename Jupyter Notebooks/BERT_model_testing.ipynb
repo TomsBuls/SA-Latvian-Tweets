{
 "cells": [
  {
   "cell_type": "markdown",
   "id": "67f20470-edc5-4f32-86a5-cc151f3a5650",
   "metadata": {},
   "source": [
    "# Models with Lemmatized Data (using ROS)"
   ]
  },
  {
   "cell_type": "markdown",
   "id": "46e8fee6-4045-4405-96bc-c4033f37edb3",
   "metadata": {},
   "source": [
    "# Testing BERT"
   ]
  },
  {
   "cell_type": "code",
   "execution_count": null,
   "id": "1c00bac1-fe69-4490-8218-108e80d2ded4",
   "metadata": {},
   "outputs": [],
   "source": [
    "pip show transformers"
   ]
  },
  {
   "cell_type": "code",
   "execution_count": 4,
   "id": "85a5e806-e0ff-417a-82cf-15bec5e34e05",
   "metadata": {},
   "outputs": [
    {
     "name": "stdout",
     "output_type": "stream",
     "text": [
      "Sentence 1: Rīta Panorāma vēstīja par akcīzes nodokļa izmaiņām. \n",
      "Translation: Rīta Panorāma reported on changes in excise tax. \n",
      "Predicted Label: Neutral\n",
      "\n",
      "Sentence 2: Šī valdība nespēj risināt sabiedrības problēmas. \n",
      "Translation: This government is unable to solve societal problems. \n",
      "Predicted Label: Negative\n",
      "\n",
      "Sentence 3: Valdība, rūpējoties par sabiedrības labklājību, veiksmīgi īsteno inovatīvas iniciatīvas un sniedz efektīvu atbalstu iedzīvotājiem. \n",
      "Translation: The government, caring for the well-being of the society, successfully implements innovative initiatives and provides effective support to the citizens. \n",
      "Predicted Label: Positive\n",
      "\n",
      "Sentence 4: Man ir ļoti nopietnas bažas par valdības darbību vides aizsardzības jomā. \n",
      "Translation: I have very serious concerns about the government's actions in environmental protection. \n",
      "Predicted Label: Negative\n",
      "\n",
      "Sentence 5: Valdības ekonomikas politika ir nesaprātīga un kaitīga sabiedrībai. \n",
      "Translation: The government's economic policy is unreasonable and harmful to society. \n",
      "Predicted Label: Negative\n",
      "\n"
     ]
    }
   ],
   "source": [
    "from transformers import BertForSequenceClassification, BertTokenizer\n",
    "import torch\n",
    "\n",
    "# Load the saved model\n",
    "model_path = r'C:\\Users\\tomsb\\OneDrive\\Desktop\\Artefacts\\BERT models\\Lemmatized\\ROS_Model'\n",
    "loaded_model = BertForSequenceClassification.from_pretrained(model_path)\n",
    "\n",
    "# Load the tokenizer used during training\n",
    "lvbert_tokenizer = BertTokenizer.from_pretrained(\"AiLab-IMCS-UL/lvbert\")  # Use the same pretrained tokenizer name or path\n",
    "\n",
    "# Optional: Move the model to GPU if available\n",
    "device = torch.device('cuda' if torch.cuda.is_available() else 'cpu')\n",
    "loaded_model.to(device)\n",
    "\n",
    "# Sentences expressing different sentiments and in different forms\n",
    "sentences = [\n",
    "    \"Rīta Panorāma vēstīja par akcīzes nodokļa izmaiņām.\",  # Rīta Panorāma reported on changes in excise tax.\n",
    "    \"Šī valdība nespēj risināt sabiedrības problēmas.\",  # This government is unable to solve societal problems.\n",
    "    \"Valdība, rūpējoties par sabiedrības labklājību, veiksmīgi īsteno inovatīvas iniciatīvas un sniedz efektīvu atbalstu iedzīvotājiem.\",\n",
    "    # The government, caring for the well-being of the society, successfully implements innovative initiatives and provides effective support to the citizens.\n",
    "    \"Man ir ļoti nopietnas bažas par valdības darbību vides aizsardzības jomā.\",\n",
    "    # I have serious concerns about the government's actions in environmental protection.\n",
    "    \"Valdības ekonomikas politika ir nesaprātīga un kaitīga sabiedrībai.\",  # The government's economic policy is unreasonable and harmful to society.\n",
    "]\n",
    "\n",
    "translations = [\n",
    "    \"Rīta Panorāma reported on changes in excise tax.\",\n",
    "    \"This government is unable to solve societal problems.\",\n",
    "    \"The government, caring for the well-being of the society, successfully implements innovative initiatives and provides effective support to the citizens.\",\n",
    "    \"I have very serious concerns about the government's actions in environmental protection.\",\n",
    "    \"The government's economic policy is unreasonable and harmful to society.\"\n",
    "]\n",
    "\n",
    "# Predict labels for each sentiment-expressing sentence\n",
    "for idx, (sentence, translation) in enumerate(zip(sentences, translations), 1):\n",
    "    encoded_input = lvbert_tokenizer(sentence, return_tensors='pt', padding=True, truncation=True, max_length=128)\n",
    "    encoded_input = {key: tensor.to(device) for key, tensor in encoded_input.items()}\n",
    "\n",
    "    with torch.no_grad():\n",
    "        outputs = loaded_model(**encoded_input)\n",
    "\n",
    "    logits = outputs.logits\n",
    "    predicted_label = torch.argmax(logits, dim=1).item()\n",
    "\n",
    "    label_mapping = {0: 'Negative', 1: 'Neutral', 2: 'Positive'}\n",
    "    predicted_label_text = label_mapping[predicted_label]\n",
    "\n",
    "    print(f\"Sentence {idx}: {sentence} \\nTranslation: {translation} \\nPredicted Label: {predicted_label_text}\\n\")"
   ]
  }
 ],
 "metadata": {
  "kernelspec": {
   "display_name": "Python 3 (ipykernel)",
   "language": "python",
   "name": "python3"
  },
  "language_info": {
   "codemirror_mode": {
    "name": "ipython",
    "version": 3
   },
   "file_extension": ".py",
   "mimetype": "text/x-python",
   "name": "python",
   "nbconvert_exporter": "python",
   "pygments_lexer": "ipython3",
   "version": "3.11.5"
  }
 },
 "nbformat": 4,
 "nbformat_minor": 5
}
